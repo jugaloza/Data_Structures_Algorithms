{
 "cells": [
  {
   "cell_type": "code",
   "execution_count": 53,
   "metadata": {},
   "outputs": [
    {
     "name": "stdout",
     "output_type": "stream",
     "text": [
      "5\n",
      "10 8 4 1 3\n",
      "[1, 3, 8, 10, 4]\n",
      "[10, 8, 4, 3, 1]\n"
     ]
    }
   ],
   "source": [
    "n = int(input())\n",
    "arr = [int(x) for x in input().split()]\n",
    "\n",
    "def buildheap(arr):\n",
    "    n = len(arr)\n",
    "    for i in range(1,len(arr),1):\n",
    "        childindex = i\n",
    "        \n",
    "        \n",
    "        \n",
    "        while childindex > 0:\n",
    "            parentindex = (childindex - 1) // 2\n",
    "            \n",
    "            if arr[childindex] < arr[parentindex]:\n",
    "                arr[parentindex],arr[childindex] = arr[childindex],arr[parentindex]\n",
    "                childindex = parentindex\n",
    "            \n",
    "            else:\n",
    "                break\n",
    "    \n",
    "def sortheap(arr):\n",
    "    for i in range(len(arr)-1,0,-1):\n",
    "        #print(arr[i])\n",
    "        arr[i],arr[0] = arr[0],arr[i]\n",
    "        #print(arr[i])\n",
    "        #print(arr[0])\n",
    "        c = 0\n",
    "        while c < i:\n",
    "            parentIndex = 0\n",
    "            leftchildIndex = 2*parentIndex + 1\n",
    "            rightchildIndex = 2*parentIndex + 2\n",
    "            while leftchildIndex < i:\n",
    "                minIndex = parentIndex\n",
    "                if arr[minIndex] > arr[leftchildIndex]:\n",
    "                    minIndex = leftchildIndex\n",
    "                if rightchildIndex < i and arr[minIndex] > arr[rightchildIndex]:\n",
    "                    minIndex = rightchildIndex\n",
    "                if minIndex == parentIndex:\n",
    "                    break\n",
    "                arr[parentIndex],arr[minIndex] = arr[minIndex],arr[parentIndex]\n",
    "                parentindex = minIndex\n",
    "                leftchildIndex = 2*parentIndex + 1\n",
    "                rightchildIndex = 2*parentIndex + 2  \n",
    "            c += 1\n",
    "\n",
    "def heapsort(arr):\n",
    "    buildheap(arr)\n",
    "    print(arr)\n",
    "    sortheap(arr)\n",
    "    print(arr)\n",
    "    \n",
    "    \n",
    "heapsort(arr)"
   ]
  },
  {
   "cell_type": "code",
   "execution_count": 70,
   "metadata": {},
   "outputs": [
    {
     "name": "stdout",
     "output_type": "stream",
     "text": [
      "4 7 3 6 9 11 10\n",
      "[3, 6, 4, 7, 9, 11, 10]\n",
      "11 10 9 7 6 4 3 "
     ]
    }
   ],
   "source": [
    "## Read input as specified in the question.\n",
    "## Print output as specified in the question.\n",
    "\n",
    "arr = [int(x) for x in input().split()]\n",
    "\n",
    "\n",
    "def downheapify(i,arr,n):\n",
    "        parentIndex = i\n",
    "        leftchildIndex = 2*parentIndex + 1\n",
    "        rightchildIndex = 2*parentIndex + 2\n",
    "        if leftchildIndex < n and arr[leftchildIndex] < arr[parentIndex]:\n",
    "            parentIndex = leftchildIndex\n",
    "        if rightchildIndex < n and arr[rightchildIndex] < arr[parentIndex]:\n",
    "            parentIndex = rightchildIndex\n",
    "        if parentIndex != i:\n",
    "            arr[i],arr[parentIndex] = arr[parentIndex],arr[i]\n",
    "            downheapify(parentIndex,arr,n)    \n",
    "        return\n",
    "\n",
    "def heapsort(arr):\n",
    "    n = len(arr)\n",
    "    for i in range(n//2 -1,-1,-1):\n",
    "        downheapify(i,arr,n)\n",
    "    print(arr)    \n",
    "    for i in range(n-1,0,-1):\n",
    "        arr[0],arr[i] = arr[i],arr[0]\n",
    "        downheapify(0,arr,i)\n",
    "    #print(arr)\n",
    "    #print(arr)\n",
    "    \n",
    "    \n",
    "heapsort(arr)\n",
    "    \n",
    "    \n",
    "    \n",
    "\n",
    "for i in arr:\n",
    "    print(i,end=\" \")"
   ]
  },
  {
   "cell_type": "code",
   "execution_count": 37,
   "metadata": {},
   "outputs": [
    {
     "name": "stdout",
     "output_type": "stream",
     "text": [
      "1\n"
     ]
    }
   ],
   "source": [
    "print((3-1)//2)"
   ]
  }
 ],
 "metadata": {
  "kernelspec": {
   "display_name": "Python 3",
   "language": "python",
   "name": "python3"
  },
  "language_info": {
   "codemirror_mode": {
    "name": "ipython",
    "version": 3
   },
   "file_extension": ".py",
   "mimetype": "text/x-python",
   "name": "python",
   "nbconvert_exporter": "python",
   "pygments_lexer": "ipython3",
   "version": "3.6.7"
  }
 },
 "nbformat": 4,
 "nbformat_minor": 2
}
