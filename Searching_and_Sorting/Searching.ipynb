{
  "nbformat": 4,
  "nbformat_minor": 0,
  "metadata": {
    "colab": {
      "name": "Searching",
      "provenance": [],
      "collapsed_sections": []
    },
    "kernelspec": {
      "name": "python3",
      "display_name": "Python 3"
    }
  },
  "cells": [
    {
      "cell_type": "markdown",
      "metadata": {
        "id": "X7KyhylQhfm2"
      },
      "source": [
        "<h2> Binary Search (Iterative)"
      ]
    },
    {
      "cell_type": "code",
      "metadata": {
        "colab": {
          "base_uri": "https://localhost:8080/"
        },
        "id": "VdGCmnlhq2jV",
        "outputId": "f3f5799f-32ce-4a58-fbef-6e044bd96731"
      },
      "source": [
        "arr = [int(x) for x in input().split()]"
      ],
      "execution_count": null,
      "outputs": [
        {
          "output_type": "stream",
          "text": [
            "1 2 3 4 5\n"
          ],
          "name": "stdout"
        }
      ]
    },
    {
      "cell_type": "code",
      "metadata": {
        "colab": {
          "base_uri": "https://localhost:8080/"
        },
        "id": "tbtxKp6qhdLa",
        "outputId": "9895057a-13be-4fc8-a8d8-b3de49eb5432"
      },
      "source": [
        "\r\n",
        "def binarysearch(arr,key):\r\n",
        "  ''' function to implement binary serach using iteratiions'''\r\n",
        "  low = 0\r\n",
        "  high = len(arr)-1\r\n",
        "  while low < high:\r\n",
        "    mid = (low+high)//2\r\n",
        "    if arr[mid] == key:\r\n",
        "      return mid\r\n",
        "    elif arr[mid] > key:\r\n",
        "      high = mid - 1\r\n",
        "    else:\r\n",
        "      low = mid + 1\r\n",
        "  else:\r\n",
        "    return -1\r\n",
        "binarysearch(arr,7)"
      ],
      "execution_count": null,
      "outputs": [
        {
          "output_type": "execute_result",
          "data": {
            "text/plain": [
              "-1"
            ]
          },
          "metadata": {
            "tags": []
          },
          "execution_count": 8
        }
      ]
    },
    {
      "cell_type": "markdown",
      "metadata": {
        "id": "NZhjL1Hbrkq7"
      },
      "source": [
        "<h3> Time complexity O(log n) <h3>"
      ]
    },
    {
      "cell_type": "markdown",
      "metadata": {
        "id": "8yMX8SMhrups"
      },
      "source": [
        "<h2> Binary Search (Recursive)"
      ]
    },
    {
      "cell_type": "code",
      "metadata": {
        "colab": {
          "base_uri": "https://localhost:8080/"
        },
        "id": "drmTXU3cxfi-",
        "outputId": "e0b51ed6-7898-4f13-ce33-50e456d9b352"
      },
      "source": [
        "def Binarysearch(arr,key,low,high):\r\n",
        "  ''' function to implement binary search using recursion'''\r\n",
        "  if low > high:\r\n",
        "    return -1\r\n",
        "  mid = (low + high)// 2\r\n",
        "\r\n",
        "  if arr[mid] == key:\r\n",
        "    return mid\r\n",
        "  elif arr[mid] > key:\r\n",
        "    return Binarysearch(arr,key,low,mid-1)\r\n",
        "  else:\r\n",
        "    return Binarysearch(arr,key,mid+1,high)\r\n",
        "Binarysearch(arr,8,0,len(arr)-1)"
      ],
      "execution_count": null,
      "outputs": [
        {
          "output_type": "execute_result",
          "data": {
            "text/plain": [
              "-1"
            ]
          },
          "metadata": {
            "tags": []
          },
          "execution_count": 18
        }
      ]
    },
    {
      "cell_type": "markdown",
      "metadata": {
        "id": "-8qxqruMykB1"
      },
      "source": [
        "<h3> Time complexity O(log n) <h3>\r\n",
        "<h3> Space complexity O (n) stack </h3>"
      ]
    },
    {
      "cell_type": "markdown",
      "metadata": {
        "id": "ZupQg2t_zaNF"
      },
      "source": [
        "<h2> Index of first occurrence </h2>"
      ]
    },
    {
      "cell_type": "code",
      "metadata": {
        "colab": {
          "base_uri": "https://localhost:8080/"
        },
        "id": "zpTgg12Y0DSr",
        "outputId": "46bfc549-b722-43fe-da92-3162d574a0ae"
      },
      "source": [
        "arr = [int(x) for x in input().split()]"
      ],
      "execution_count": null,
      "outputs": [
        {
          "output_type": "stream",
          "text": [
            "15 15 15\n"
          ],
          "name": "stdout"
        }
      ]
    },
    {
      "cell_type": "code",
      "metadata": {
        "colab": {
          "base_uri": "https://localhost:8080/"
        },
        "id": "Be3-RiMvzeCb",
        "outputId": "fb6cd08e-cb90-44c4-ea3f-34889da915d3"
      },
      "source": [
        "def first_occurrence(arr,key):\r\n",
        "  ''' function to know index of first occurence of an element using iterative solution'''\r\n",
        "  low = 0\r\n",
        "  high = len(arr) - 1\r\n",
        "  while low < high:\r\n",
        "    mid = ( low + high) // 2\r\n",
        "    if arr[mid] == key:\r\n",
        "      while mid-1 >= 0 and arr[mid-1] == arr[mid] :\r\n",
        "        mid = mid - 1\r\n",
        "      return mid\r\n",
        "    elif arr[mid] > key:\r\n",
        "      high = mid - 1\r\n",
        "    else:\r\n",
        "      low = mid + 1\r\n",
        "  return mid\r\n",
        "\r\n",
        "first_occurrence(arr,15)"
      ],
      "execution_count": null,
      "outputs": [
        {
          "output_type": "execute_result",
          "data": {
            "text/plain": [
              "0"
            ]
          },
          "metadata": {
            "tags": []
          },
          "execution_count": 32
        }
      ]
    },
    {
      "cell_type": "markdown",
      "metadata": {
        "id": "U4CKnyuo13t5"
      },
      "source": [
        "<h3> Time complexity O(log n) </h3>\r\n",
        "<h3> Space complexity O(1) </h3>\r\n"
      ]
    },
    {
      "cell_type": "markdown",
      "metadata": {
        "id": "a-it43zu2DyG"
      },
      "source": [
        "<h2> Recursive approach </h2>"
      ]
    },
    {
      "cell_type": "code",
      "metadata": {
        "colab": {
          "base_uri": "https://localhost:8080/"
        },
        "id": "ozNNE5ts2ODu",
        "outputId": "c8c068da-e861-4158-d565-9fc8678ec794"
      },
      "source": [
        "def first_occurrence(arr,key,low,high):\r\n",
        "  ''' function to know index of first occurence of an element using recurions'''\r\n",
        "  if low > high:\r\n",
        "    return -1\r\n",
        "  mid = (low + high) // 2\r\n",
        "  if arr[mid] > key:\r\n",
        "    return first_occurrence(arr,key,low,mid-1)\r\n",
        "  elif arr[mid] < key:\r\n",
        "    return first_occurrence(arr,key,mid+1,high)\r\n",
        "  elif mid == 0 or arr[mid-1] != arr[mid]:\r\n",
        "    return mid\r\n",
        "  else:\r\n",
        "    return first_occurrence(arr,key,low,mid-1)\r\n",
        "first_occurrence(arr,15,0,len(arr)-1)"
      ],
      "execution_count": null,
      "outputs": [
        {
          "output_type": "execute_result",
          "data": {
            "text/plain": [
              "0"
            ]
          },
          "metadata": {
            "tags": []
          },
          "execution_count": 34
        }
      ]
    },
    {
      "cell_type": "markdown",
      "metadata": {
        "id": "T49nFXvB3Bo8"
      },
      "source": [
        "<h3> Time complexity O(log n) </h3>\r\n",
        "<h3> Space complexity O(n) recursion stack </h3>\r\n"
      ]
    },
    {
      "cell_type": "markdown",
      "metadata": {
        "id": "TIZB8sFH3W2D"
      },
      "source": [
        "<h2> Index of last occurrence </h2>"
      ]
    },
    {
      "cell_type": "code",
      "metadata": {
        "colab": {
          "base_uri": "https://localhost:8080/"
        },
        "id": "809vwenE3bEy",
        "outputId": "d7736495-5d19-4190-c7b2-5f04e606f42a"
      },
      "source": [
        "arr = [int(x) for x in input().split()]"
      ],
      "execution_count": null,
      "outputs": [
        {
          "output_type": "stream",
          "text": [
            "5 10 10 10 10 20 20\n"
          ],
          "name": "stdout"
        }
      ]
    },
    {
      "cell_type": "code",
      "metadata": {
        "colab": {
          "base_uri": "https://localhost:8080/"
        },
        "id": "JdZ2TdhY3c7t",
        "outputId": "3c1602d5-4313-43a5-add8-9bf054abc6e5"
      },
      "source": [
        "def last_occurrence(arr,key):\r\n",
        "  ''' function to know index of last occurence of an element using iterative solution'''\r\n",
        "  low = 0\r\n",
        "  high = len(arr) - 1\r\n",
        "  while low < high:\r\n",
        "    mid = ( low + high) // 2\r\n",
        "    if arr[mid] == key:\r\n",
        "      while mid+1 <= len(arr)-1 and arr[mid] == arr[mid+1] :\r\n",
        "        mid = mid + 1\r\n",
        "      return mid\r\n",
        "    elif arr[mid] > key:\r\n",
        "      high = mid - 1\r\n",
        "    else:\r\n",
        "      low = mid + 1\r\n",
        "  else:\r\n",
        "    mid = -1\r\n",
        "  return mid\r\n",
        "\r\n",
        "last_occurrence(arr,20)"
      ],
      "execution_count": null,
      "outputs": [
        {
          "output_type": "execute_result",
          "data": {
            "text/plain": [
              "6"
            ]
          },
          "metadata": {
            "tags": []
          },
          "execution_count": 41
        }
      ]
    },
    {
      "cell_type": "markdown",
      "metadata": {
        "id": "n4-rnOXo38Nh"
      },
      "source": [
        "<h3> Time complexity O(log n) </h3>\r\n",
        "<h3> Space complexity O(1) </h3>\r\n"
      ]
    },
    {
      "cell_type": "markdown",
      "metadata": {
        "id": "C6Di1qRm4BA2"
      },
      "source": [
        "<h2> Recursive approach </h2>"
      ]
    },
    {
      "cell_type": "code",
      "metadata": {
        "colab": {
          "base_uri": "https://localhost:8080/"
        },
        "id": "JRf81y3j4C3V",
        "outputId": "c8642c45-28b7-42dc-9905-05f0ba371891"
      },
      "source": [
        "def last_occurrence(arr,key,low,high):\r\n",
        "  ''' function to know index of last occurence of an element using recurions'''\r\n",
        "  if low > high:\r\n",
        "    return -1\r\n",
        "  mid = (low + high) // 2\r\n",
        "  if arr[mid] > key:\r\n",
        "    return last_occurrence(arr,key,low,mid-1)\r\n",
        "  elif arr[mid] < key:\r\n",
        "    return last_occurrence(arr,key,mid+1,high)\r\n",
        "  elif mid == len(arr)-1 or arr[mid] != arr[mid+1]:\r\n",
        "    return mid\r\n",
        "  else:\r\n",
        "    return last_occurrence(arr,key,mid+1,high)\r\n",
        "last_occurrence(arr,20,0,len(arr)-1)"
      ],
      "execution_count": null,
      "outputs": [
        {
          "output_type": "execute_result",
          "data": {
            "text/plain": [
              "6"
            ]
          },
          "metadata": {
            "tags": []
          },
          "execution_count": 43
        }
      ]
    },
    {
      "cell_type": "markdown",
      "metadata": {
        "id": "D1RH9EkQ4hz-"
      },
      "source": [
        "<h3> Time complexity O(log n) </h3>\r\n",
        "<h3> Space complexity O(n) recursion stack </h3>\r\n"
      ]
    },
    {
      "cell_type": "markdown",
      "metadata": {
        "id": "3gNL_zM46qpm"
      },
      "source": [
        "<h1> Count occurences in sorted array </h1>"
      ]
    },
    {
      "cell_type": "code",
      "metadata": {
        "colab": {
          "base_uri": "https://localhost:8080/"
        },
        "id": "LDD3Kclb6wTn",
        "outputId": "a6395909-219a-4628-bee0-38253899df48"
      },
      "source": [
        "def countoccurence(arr,n,key):\r\n",
        "  ''' function to count occurences in sorted array '''\r\n",
        "  first = first_occurrence(arr,key,0,n)\r\n",
        "  if first == -1:\r\n",
        "    return 0\r\n",
        "  return (last_occurrence(arr,key,0,n) - first + 1)\r\n",
        "\r\n",
        "countoccurence(arr,len(arr)-1,10)"
      ],
      "execution_count": null,
      "outputs": [
        {
          "output_type": "execute_result",
          "data": {
            "text/plain": [
              "4"
            ]
          },
          "metadata": {
            "tags": []
          },
          "execution_count": 48
        }
      ]
    },
    {
      "cell_type": "markdown",
      "metadata": {
        "id": "eF_rMmXm7NU7"
      },
      "source": [
        "<h3> Time complexity O(log n) </h3>\r\n",
        "<h3> Space complexity O(n) recursion stack </h3>\r\n"
      ]
    },
    {
      "cell_type": "markdown",
      "metadata": {
        "id": "dbs903Y-8xG2"
      },
      "source": [
        "<h1> Count no of 1s  in binary sorted array </h1>"
      ]
    },
    {
      "cell_type": "code",
      "metadata": {
        "colab": {
          "base_uri": "https://localhost:8080/"
        },
        "id": "002CyctH9Xlr",
        "outputId": "d9d408ab-c1aa-472e-bc51-b2edfb325e24"
      },
      "source": [
        "arr = [int(x) for x in input().split()]"
      ],
      "execution_count": null,
      "outputs": [
        {
          "output_type": "stream",
          "text": [
            "0 0 1 1 1 1 1\n"
          ],
          "name": "stdout"
        }
      ]
    },
    {
      "cell_type": "code",
      "metadata": {
        "colab": {
          "base_uri": "https://localhost:8080/"
        },
        "id": "5P6pQGq0826q",
        "outputId": "5578ca3c-949f-49bc-a3e2-8a67d492c1f4"
      },
      "source": [
        "def count_ones(arr):\r\n",
        "  ''' count the number of ones in binary sorted array'''\r\n",
        "  low = 0\r\n",
        "  high = len(arr)-1\r\n",
        "  n = len(arr)\r\n",
        "  while low <= high:\r\n",
        "    mid = (low + high) // 2\r\n",
        "    if arr[mid] == 0:\r\n",
        "      low = mid + 1\r\n",
        "    else:\r\n",
        "      if mid == 0 or arr[mid-1] != arr[mid]:\r\n",
        "        return n - mid\r\n",
        "      else:\r\n",
        "        high = mid - 1\r\n",
        "count_ones(arr)"
      ],
      "execution_count": null,
      "outputs": [
        {
          "output_type": "execute_result",
          "data": {
            "text/plain": [
              "5"
            ]
          },
          "metadata": {
            "tags": []
          },
          "execution_count": 53
        }
      ]
    },
    {
      "cell_type": "markdown",
      "metadata": {
        "id": "lmf1xgkc9puU"
      },
      "source": [
        "<h3> Time complexity O(log n) </h3>\r\n",
        "<h3> Space complexity O(1) </h3>\r\n"
      ]
    },
    {
      "cell_type": "markdown",
      "metadata": {
        "id": "9adO3uGJ_mw7"
      },
      "source": [
        "<h1> square root of a number(floor) Naive approach </h1>"
      ]
    },
    {
      "cell_type": "code",
      "metadata": {
        "colab": {
          "base_uri": "https://localhost:8080/"
        },
        "id": "nEh3n07o_wLH",
        "outputId": "0581ca7f-3557-4975-8a92-f491d5a69a3f"
      },
      "source": [
        "def root(n):\r\n",
        "  ''' naive solution to find square root of number '''\r\n",
        "  i = 1\r\n",
        "  while i*i <= n:\r\n",
        "    i += 1\r\n",
        "  return i-1\r\n",
        "\r\n",
        "root(9)"
      ],
      "execution_count": null,
      "outputs": [
        {
          "output_type": "execute_result",
          "data": {
            "text/plain": [
              "3"
            ]
          },
          "metadata": {
            "tags": []
          },
          "execution_count": 59
        }
      ]
    },
    {
      "cell_type": "markdown",
      "metadata": {
        "id": "NiUDJbyZAHKS"
      },
      "source": [
        "<h3> Time complexity O(sqrt(n)) </h3>\r\n",
        "<h3> Space complexity O(1) </h3>\r\n"
      ]
    },
    {
      "cell_type": "markdown",
      "metadata": {
        "id": "vMDZxjbUANB_"
      },
      "source": [
        "<h1> square root of a number(floor) Optimized approach </h1>"
      ]
    },
    {
      "cell_type": "code",
      "metadata": {
        "colab": {
          "base_uri": "https://localhost:8080/"
        },
        "id": "m0j8YtF3AQ9z",
        "outputId": "b637cf5c-c614-48c3-cecc-cd4f6a606465"
      },
      "source": [
        "def root(n):\r\n",
        "  ''' function to find square root of a number using optimized solution '''\r\n",
        "  low = 1\r\n",
        "  high = n\r\n",
        "\r\n",
        "  while low <= high:\r\n",
        "    mid = (low + high) // 2\r\n",
        "    midsquare = mid * mid \r\n",
        "    if (midsquare) == n:\r\n",
        "      return mid\r\n",
        "    elif midsquare > n:\r\n",
        "      high = mid - 1\r\n",
        "    else:\r\n",
        "      low = mid + 1\r\n",
        "      ans = mid\r\n",
        "  \r\n",
        "  return ans\r\n",
        "\r\n",
        "root(10)\r\n",
        "  \r\n",
        "    "
      ],
      "execution_count": null,
      "outputs": [
        {
          "output_type": "execute_result",
          "data": {
            "text/plain": [
              "3"
            ]
          },
          "metadata": {
            "tags": []
          },
          "execution_count": 62
        }
      ]
    },
    {
      "cell_type": "markdown",
      "metadata": {
        "id": "RF2cjTaaCWFe"
      },
      "source": [
        "<h3> Time complexity O(log n) </h3>\r\n",
        "<h3> Space complexity O(1) </h3>\r\n"
      ]
    },
    {
      "cell_type": "markdown",
      "metadata": {
        "id": "yNpBT0CnF22J"
      },
      "source": [
        "<h1> search in sorted rotated array </h1>"
      ]
    },
    {
      "cell_type": "code",
      "metadata": {
        "colab": {
          "base_uri": "https://localhost:8080/"
        },
        "id": "Q_OliLZ6G_LX",
        "outputId": "bfba3594-6d24-409a-a31e-ff6b5a636a40"
      },
      "source": [
        "arr = [int(x) for x in input().split()]"
      ],
      "execution_count": null,
      "outputs": [
        {
          "output_type": "stream",
          "text": [
            "10 20 40 60 5 8\n"
          ],
          "name": "stdout"
        }
      ]
    },
    {
      "cell_type": "code",
      "metadata": {
        "colab": {
          "base_uri": "https://localhost:8080/"
        },
        "id": "JVxeCewPF-UZ",
        "outputId": "ae4f9701-6bab-4682-b0c3-abf46f319af9"
      },
      "source": [
        "def search(arr,key):\r\n",
        "  ''' function to searching element in rotated array '''\r\n",
        "  low = 0\r\n",
        "  high = len(arr) - 1\r\n",
        "  while low <= high:\r\n",
        "    mid = (low + high) // 2\r\n",
        "    if arr[mid] == key:\r\n",
        "      return mid\r\n",
        "    if arr[low] < arr[mid]:\r\n",
        "      # if left half of array is sorted then search the element in left half\r\n",
        "      if key >= arr[low] and key < arr[mid]: \r\n",
        "        high = mid - 1\r\n",
        "      else:\r\n",
        "        low = mid + 1\r\n",
        "    else:\r\n",
        "      # right half of array is sorted\r\n",
        "      if key > arr[mid] and key <= arr[high]:\r\n",
        "        low = mid + 1\r\n",
        "      else:\r\n",
        "        high = mid - 1\r\n",
        "  else:\r\n",
        "    return -1\r\n",
        "\r\n",
        "search(arr,60)\r\n",
        "  "
      ],
      "execution_count": null,
      "outputs": [
        {
          "output_type": "execute_result",
          "data": {
            "text/plain": [
              "3"
            ]
          },
          "metadata": {
            "tags": []
          },
          "execution_count": 71
        }
      ]
    },
    {
      "cell_type": "markdown",
      "metadata": {
        "id": "H5s7j5XwIlc-"
      },
      "source": [
        "<h3> Time complexity O(log n) </h3>\r\n",
        "<h3> Space complexity O(1) </h3>\r\n"
      ]
    },
    {
      "cell_type": "markdown",
      "metadata": {
        "id": "J8zY4m_iJvW1"
      },
      "source": [
        "<h1> Find a peak element (Naive solution) </h1>"
      ]
    },
    {
      "cell_type": "code",
      "metadata": {
        "colab": {
          "base_uri": "https://localhost:8080/"
        },
        "id": "7eyv_ubwM_E7",
        "outputId": "fcf1ac23-4f4e-46ec-96f4-4c1629aa8603"
      },
      "source": [
        "arr = [int(x) for x in input().split()]"
      ],
      "execution_count": null,
      "outputs": [
        {
          "output_type": "stream",
          "text": [
            "5 10 20 40 60 70 80\n"
          ],
          "name": "stdout"
        }
      ]
    },
    {
      "cell_type": "code",
      "metadata": {
        "id": "1B5-6DmLJ1tI"
      },
      "source": [
        "def getPeak(arr):\r\n",
        "  '''function to find peak element in array using naive solution '''\r\n",
        "  if len(arr) == 1:\r\n",
        "    return arr[0]\r\n",
        "\r\n",
        "  if arr[0] >= arr[1]:\r\n",
        "    return arr[0]\r\n",
        "  if arr[len(arr)-1] >= arr[len(arr)-2]:\r\n",
        "    return arr[len(arr)-1]\r\n",
        "  for i in range(1,len(arr)-1):\r\n",
        "    if arr[i] >= arr[i-1] and arr[i] >= arr[i+1]:\r\n",
        "      return arr[i]\r\n"
      ],
      "execution_count": null,
      "outputs": []
    },
    {
      "cell_type": "code",
      "metadata": {
        "colab": {
          "base_uri": "https://localhost:8080/"
        },
        "id": "L8HRQCNwNL0L",
        "outputId": "b6c08cd9-784e-410c-a5a7-9bc311646001"
      },
      "source": [
        "\r\n",
        "getPeak(arr)"
      ],
      "execution_count": null,
      "outputs": [
        {
          "output_type": "execute_result",
          "data": {
            "text/plain": [
              "80"
            ]
          },
          "metadata": {
            "tags": []
          },
          "execution_count": 90
        }
      ]
    },
    {
      "cell_type": "markdown",
      "metadata": {
        "id": "eWMK1dOEKwlg"
      },
      "source": [
        "<h3> Time complexity O(n) </h3>\r\n",
        "<h3> Space complexity O(1) </h3>\r\n"
      ]
    },
    {
      "cell_type": "markdown",
      "metadata": {
        "id": "4g-rQYVaK0c5"
      },
      "source": [
        "<h1> Find a peak element (Efficient solution) </h1>"
      ]
    },
    {
      "cell_type": "code",
      "metadata": {
        "id": "TtEEkn95LqGe"
      },
      "source": [
        "def getPeak(arr):\r\n",
        "  '''Efficient solution to find peak element in array '''\r\n",
        "  low = 0\r\n",
        "  high = len(arr)-1\r\n",
        "  while low <= high:\r\n",
        "    mid = (low + high) // 2\r\n",
        "\r\n",
        "    if (mid== 0 or arr[mid] >= arr[mid-1]) and (mid == len(arr)-1 or arr[mid] >= arr[mid+1]):\r\n",
        "      return arr[mid]\r\n",
        "    if (mid > 0 and arr[mid-1] > arr[mid]):\r\n",
        "      high = mid - 1\r\n",
        "    else:\r\n",
        "      low = mid + 1\r\n",
        "  else:\r\n",
        "    return -1\r\n"
      ],
      "execution_count": null,
      "outputs": []
    },
    {
      "cell_type": "code",
      "metadata": {
        "colab": {
          "base_uri": "https://localhost:8080/"
        },
        "id": "QuZnSXmjNQk7",
        "outputId": "45768e63-9481-4188-89c1-206c9be07f41"
      },
      "source": [
        "\r\n",
        "getPeak(arr)"
      ],
      "execution_count": null,
      "outputs": [
        {
          "output_type": "execute_result",
          "data": {
            "text/plain": [
              "80"
            ]
          },
          "metadata": {
            "tags": []
          },
          "execution_count": 87
        }
      ]
    },
    {
      "cell_type": "markdown",
      "metadata": {
        "id": "FH5hpm9AM4v5"
      },
      "source": [
        "<h3> Time complexity O(log n) </h3>\r\n",
        "<h3> Space complexity O(1) </h3>\r\n"
      ]
    },
    {
      "cell_type": "markdown",
      "metadata": {
        "id": "4_OHOiSdOXIY"
      },
      "source": [
        "<h1> Two pointer approach </h1>"
      ]
    },
    {
      "cell_type": "markdown",
      "metadata": {
        "id": "W1bF0olEORxW"
      },
      "source": [
        "<h2> 1. Find pair in unsorted array which gives sum X </h2>"
      ]
    },
    {
      "cell_type": "code",
      "metadata": {
        "colab": {
          "base_uri": "https://localhost:8080/"
        },
        "id": "umaa2Q81Ofqr",
        "outputId": "11ecb85b-57bb-42e1-a0d3-9874b86e3a58"
      },
      "source": [
        "arr = [3,5,9,2,8,11]\r\n",
        "def pair(arr,value):\r\n",
        "  '''two pointer approach method to find pair of sum '''\r\n",
        "  low = 0\r\n",
        "  high = len(arr)-1\r\n",
        "  while low < high:\r\n",
        "    if arr[low] + arr[high] == value:\r\n",
        "      return (arr[low],arr[high])\r\n",
        "    elif arr[low] + arr[high] > value:\r\n",
        "      high -= 1\r\n",
        "    else:\r\n",
        "      low += 1\r\n",
        "      \r\n",
        "  else:\r\n",
        "    return -1\r\n",
        "pair(arr,7)"
      ],
      "execution_count": null,
      "outputs": [
        {
          "output_type": "execute_result",
          "data": {
            "text/plain": [
              "(5, 2)"
            ]
          },
          "metadata": {
            "tags": []
          },
          "execution_count": 99
        }
      ]
    },
    {
      "cell_type": "markdown",
      "metadata": {
        "id": "SMLOa-IUQQNY"
      },
      "source": [
        "<h3> Time complexity O(n) </h3>\r\n",
        "<h3> Space complexity O(1) </h3>\r\n"
      ]
    },
    {
      "cell_type": "markdown",
      "metadata": {
        "id": "yLFC3ojSQuwI"
      },
      "source": [
        "<h2> 2. Given a sorted array and a sum find if there is a triplet with given sum </h2>"
      ]
    },
    {
      "cell_type": "code",
      "metadata": {
        "colab": {
          "base_uri": "https://localhost:8080/"
        },
        "id": "QdQtu7nGQt6v",
        "outputId": "762c324d-5496-4ff3-fd8c-eb98f632b148"
      },
      "source": [
        "arr = [2,3,5,9,8,11]\r\n",
        "def isPair(arr,low,high,value):\r\n",
        "  ''' function to find whether pair is present which sums value to X'''\r\n",
        "\r\n",
        "  while low < high:\r\n",
        "    if arr[low] + arr[high] == value:\r\n",
        "      return True\r\n",
        "    elif arr[low] + arr[high] > value:\r\n",
        "      \r\n",
        "      high -= 1\r\n",
        "    else:\r\n",
        "      low += 1\r\n",
        "  else:\r\n",
        "    return False\r\n",
        "\r\n",
        "def findPair(arr,sum):\r\n",
        "  '''function to find triplet pair which sums to X'''\r\n",
        "  \r\n",
        "  for i in range(len(arr)):\r\n",
        "    if isPair(arr,i+1,len(arr)-1,sum - arr[i]):\r\n",
        "      return True\r\n",
        "  return False\r\n",
        "findPair(arr,10)\r\n",
        "      "
      ],
      "execution_count": null,
      "outputs": [
        {
          "output_type": "execute_result",
          "data": {
            "text/plain": [
              "True"
            ]
          },
          "metadata": {
            "tags": []
          },
          "execution_count": 113
        }
      ]
    },
    {
      "cell_type": "markdown",
      "metadata": {
        "id": "OvQH9dFZNAsd"
      },
      "source": [
        "<h1> Majority Element (naive solution)</h1>"
      ]
    },
    {
      "cell_type": "markdown",
      "metadata": {
        "id": "dgNjBh4DOkVa"
      },
      "source": [
        "<h2> Naive solution </h2>"
      ]
    },
    {
      "cell_type": "code",
      "metadata": {
        "colab": {
          "base_uri": "https://localhost:8080/"
        },
        "id": "ll5pxafEM_1Y",
        "outputId": "51fd4705-208a-4647-a33a-082908c30b7a"
      },
      "source": [
        "arr = [6,8,4,8,8]\r\n",
        "count = 1\r\n",
        "for i in range(len(arr)-1):\r\n",
        "  for j in range(1,len(arr)):\r\n",
        "    if arr[i] == arr[j]:\r\n",
        "      count += 1\r\n",
        "  if count > len(arr) // 2:\r\n",
        "    print('Majority Element',arr[i])\r\n",
        "    break\r\n",
        "\r\n"
      ],
      "execution_count": 7,
      "outputs": [
        {
          "output_type": "stream",
          "text": [
            "Majority Element 8\n"
          ],
          "name": "stdout"
        }
      ]
    },
    {
      "cell_type": "markdown",
      "metadata": {
        "id": "Fnk9PHnYOe-C"
      },
      "source": [
        "<h3> Time complexity O(n^2) </h3>\r\n",
        "<h3> Space complexity O(1) </h3>\r\n"
      ]
    },
    {
      "cell_type": "markdown",
      "metadata": {
        "id": "ZMpIG3BEOnwu"
      },
      "source": [
        "<h2> Efficient solution </h2>"
      ]
    },
    {
      "cell_type": "code",
      "metadata": {
        "colab": {
          "base_uri": "https://localhost:8080/"
        },
        "id": "OlvEYc7wOq7S",
        "outputId": "56067b4d-17f8-47f3-f021-908036be94e0"
      },
      "source": [
        "def findMajority(arr):\r\n",
        "  '''function to find majority element using efficient approach'''\r\n",
        "  count = 1\r\n",
        "  res = 0\r\n",
        "  for i in range(1,len(arr)):\r\n",
        "    # finding candidate for majority element\r\n",
        "    if arr[res] == arr[i]:\r\n",
        "      count += 1\r\n",
        "    else:\r\n",
        "      count -= 1\r\n",
        "    if count == 0:\r\n",
        "      res = i\r\n",
        "      count = 1\r\n",
        "  count = 0\r\n",
        "  for i in range(len(arr)):\r\n",
        "    # checking candidate is a majority element or not\r\n",
        "    if arr[res] == arr[i]:\r\n",
        "      count += 1\r\n",
        "  if count < len(arr)//2:\r\n",
        "    return -1\r\n",
        "  return res\r\n",
        "findMajority(arr)"
      ],
      "execution_count": 9,
      "outputs": [
        {
          "output_type": "execute_result",
          "data": {
            "text/plain": [
              "3"
            ]
          },
          "metadata": {
            "tags": []
          },
          "execution_count": 9
        }
      ]
    },
    {
      "cell_type": "markdown",
      "metadata": {
        "id": "NyB9zk9TQ08B"
      },
      "source": [
        "<h3> Time complexity O(n) </h3>\r\n",
        "<h3> Space complexity O(1) </h3>\r\n"
      ]
    },
    {
      "cell_type": "markdown",
      "metadata": {
        "id": "w_O00I4pSK0T"
      },
      "source": [
        "<h1> Repeating elements </h1>"
      ]
    },
    {
      "cell_type": "markdown",
      "metadata": {
        "id": "1UPzIM5qSOpD"
      },
      "source": [
        "<h2> Naive solution (solution 1) </h2>"
      ]
    },
    {
      "cell_type": "code",
      "metadata": {
        "colab": {
          "base_uri": "https://localhost:8080/"
        },
        "id": "pKn_m4CpSTQt",
        "outputId": "44a594ca-3a96-463f-a83e-38606233f965"
      },
      "source": [
        "arr = [0,1,2,3,2,2]\r\n",
        "def repeating_element(arr):\r\n",
        "  ''' function to find repeating element using naive approach '''\r\n",
        "  for i in range(len(arr)-1):\r\n",
        "    for j in range(i+1,len(arr)):\r\n",
        "      if arr[i] == arr[j]:\r\n",
        "        return arr[i]\r\n",
        "repeating_element(arr)"
      ],
      "execution_count": 13,
      "outputs": [
        {
          "output_type": "execute_result",
          "data": {
            "text/plain": [
              "2"
            ]
          },
          "metadata": {
            "tags": []
          },
          "execution_count": 13
        }
      ]
    },
    {
      "cell_type": "markdown",
      "metadata": {
        "id": "dLzlckW6S0JR"
      },
      "source": [
        "<h3> Time complexity O(n^2) </h3>\r\n",
        "<h3> Space complexity O(1) </h3>\r\n"
      ]
    },
    {
      "cell_type": "markdown",
      "metadata": {
        "id": "VgV3LsWtS6D_"
      },
      "source": [
        "<h2> Solution 2 </h2>"
      ]
    },
    {
      "cell_type": "code",
      "metadata": {
        "colab": {
          "base_uri": "https://localhost:8080/"
        },
        "id": "NheWYmibTBGD",
        "outputId": "bd488a22-3dee-4694-a9f0-64685b3b978b"
      },
      "source": [
        "arr = [1,0,2,3,2,2]\r\n",
        "# after sorting\r\n",
        "arr = [0,1,2,2,2,3]\r\n",
        "def repeating_element(arr):\r\n",
        "  '''function to find repeating element using first sorting the array approach '''\r\n",
        "  for i in range(1,len(arr)):\r\n",
        "    if arr[i] == arr[i-1]:\r\n",
        "      return arr[i]\r\n",
        "\r\n",
        "repeating_element(arr)"
      ],
      "execution_count": 14,
      "outputs": [
        {
          "output_type": "execute_result",
          "data": {
            "text/plain": [
              "2"
            ]
          },
          "metadata": {
            "tags": []
          },
          "execution_count": 14
        }
      ]
    },
    {
      "cell_type": "markdown",
      "metadata": {
        "id": "kTdd4kFyVyL9"
      },
      "source": [
        "<h3> Time complexity O(nlogn) </h3>\r\n",
        "<h3> Space complexity O(1) </h3>\r\n"
      ]
    },
    {
      "cell_type": "markdown",
      "metadata": {
        "id": "S8QJ2QXxV_0C"
      },
      "source": [
        "<h1> Solution 3 </h1>"
      ]
    },
    {
      "cell_type": "code",
      "metadata": {
        "colab": {
          "base_uri": "https://localhost:8080/"
        },
        "id": "0SRiLrOKhDlD",
        "outputId": "20dad5e1-12cf-4e3b-b41c-29c022454a1a"
      },
      "source": [
        "arr = [0,1,2,2,2,3]\r\n",
        "def repeating_element(arr):\r\n",
        "  '''repeating element using visited array approach '''\r\n",
        "  visited = [False,False,False,False,False,False]\r\n",
        "  for i in range(len(arr)):\r\n",
        "    if visited[arr[i]]:\r\n",
        "      return arr[i]\r\n",
        "    visited[arr[i]] = True\r\n",
        "repeating_element(arr)"
      ],
      "execution_count": 16,
      "outputs": [
        {
          "output_type": "execute_result",
          "data": {
            "text/plain": [
              "2"
            ]
          },
          "metadata": {
            "tags": []
          },
          "execution_count": 16
        }
      ]
    },
    {
      "cell_type": "markdown",
      "metadata": {
        "id": "r_SXp-aSoEpQ"
      },
      "source": [
        "<h3> Time complexity O(n) </h3>\r\n",
        "<h3> Space complexity O(n) </h3>\r\n"
      ]
    }
  ]
}