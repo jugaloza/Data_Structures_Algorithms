{
  "nbformat": 4,
  "nbformat_minor": 0,
  "metadata": {
    "colab": {
      "name": "Sorting.ipynb",
      "provenance": [],
      "collapsed_sections": []
    },
    "kernelspec": {
      "name": "python3",
      "display_name": "Python 3"
    }
  },
  "cells": [
    {
      "cell_type": "markdown",
      "metadata": {
        "id": "UC1Fg5ps9TRK"
      },
      "source": [
        "<h1> Bubble Sort </h1>"
      ]
    },
    {
      "cell_type": "code",
      "metadata": {
        "colab": {
          "base_uri": "https://localhost:8080/"
        },
        "id": "da4FFyeU5M_L",
        "outputId": "e409d84f-74fb-4c38-97e0-200c26778c9f"
      },
      "source": [
        "arr = [int(x) for x in input().split()]\r\n",
        "def bubblesort(arr):\r\n",
        "  ''' function to implement bubble sort'''\r\n",
        "  for i in range(len(arr)-1):\r\n",
        "    for j in range(len(arr)-1):\r\n",
        "      if arr[j] > arr[j+1]:\r\n",
        "        arr[j],arr[j+1] = arr[j+1],arr[j]\r\n",
        "\r\n",
        "  return arr\r\n",
        "bubblesort(arr)"
      ],
      "execution_count": null,
      "outputs": [
        {
          "output_type": "stream",
          "text": [
            "7 1 3 4 5\n"
          ],
          "name": "stdout"
        },
        {
          "output_type": "execute_result",
          "data": {
            "text/plain": [
              "[1, 3, 4, 5, 7]"
            ]
          },
          "metadata": {
            "tags": []
          },
          "execution_count": 4
        }
      ]
    },
    {
      "cell_type": "markdown",
      "metadata": {
        "id": "De4rBFva9KkM"
      },
      "source": [
        "<h2> Time complexity O(n^2) </h2>"
      ]
    },
    {
      "cell_type": "markdown",
      "metadata": {
        "id": "fvgtQ2LX-KpR"
      },
      "source": [
        "<h2> Optimized Bubble Sort </h2>"
      ]
    },
    {
      "cell_type": "code",
      "metadata": {
        "id": "FPk8fdOf-PAD"
      },
      "source": [
        "def bubblesort(arr):\r\n",
        "  '''optimized bubble sort if array is already sorted '''\r\n",
        "  for i in range(len(arr)-1):\r\n",
        "    swapped = False\r\n",
        "    for j in range(len(arr)-1):\r\n",
        "      if arr[j] > arr[j+1]:\r\n",
        "        arr[j],arr[j+1] = arr[j+1],arr[j]\r\n",
        "        swapped = True\r\n",
        "\r\n",
        "    if not swapped:\r\n",
        "      break\r\n",
        "  return arr"
      ],
      "execution_count": null,
      "outputs": []
    },
    {
      "cell_type": "markdown",
      "metadata": {
        "id": "f7zAxYI0CV7d"
      },
      "source": [
        "<h2> Time complexity  </h2>\r\n",
        "<ol>\r\n",
        "<li> Worst case O(n^2) </li>\r\n",
        "<li> Best case(in case array is sorted) O(n) </li>"
      ]
    },
    {
      "cell_type": "markdown",
      "metadata": {
        "id": "r6-uj88uC3Mz"
      },
      "source": [
        "<h1> Selection sort </h1>"
      ]
    },
    {
      "cell_type": "code",
      "metadata": {
        "colab": {
          "base_uri": "https://localhost:8080/"
        },
        "id": "gb2SfawJC11c",
        "outputId": "c2062361-cbaf-48a2-c7fd-a2ccf00b8c8c"
      },
      "source": [
        "arr = [int(x) for x in input().split()]\r\n",
        "def SelectionSort(arr):\r\n",
        "  ''' function to implement selection sort'''\r\n",
        "  for i in range(len(arr)-1):\r\n",
        "    min = i\r\n",
        "    for j in range(i+1,len(arr)):\r\n",
        "      if arr[j] < arr[min]:\r\n",
        "        min = j\r\n",
        "    arr[i],arr[min] = arr[min],arr[i]\r\n",
        "  return arr\r\n",
        "SelectionSort(arr)"
      ],
      "execution_count": null,
      "outputs": [
        {
          "output_type": "stream",
          "text": [
            "4 2 3 5 1\n"
          ],
          "name": "stdout"
        },
        {
          "output_type": "execute_result",
          "data": {
            "text/plain": [
              "[1, 2, 3, 4, 5]"
            ]
          },
          "metadata": {
            "tags": []
          },
          "execution_count": 8
        }
      ]
    },
    {
      "cell_type": "markdown",
      "metadata": {
        "id": "zXWUaciCEOiF"
      },
      "source": [
        "<h2> Time complexity theta(n^2) </h2>"
      ]
    },
    {
      "cell_type": "markdown",
      "metadata": {
        "id": "k_Bl_iKcE7ES"
      },
      "source": [
        "<h1> Insertion Sort </h1>\r\n",
        "<ol>\r\n",
        "<li> Inplace and stable algorithm </li>"
      ]
    },
    {
      "cell_type": "code",
      "metadata": {
        "id": "qWZFAOzsHep9"
      },
      "source": [
        "arr = [int(x) for x in input().split()]\r\n",
        "def InsertionSort(arr):\r\n",
        "  ''' Insertion sort algorithm '''\r\n",
        "  for i in range(1,len(arr)):\r\n",
        "    j = i - 1\r\n",
        "    key = arr[i]\r\n",
        "    while j >= 0 and arr[j] > key:\r\n",
        "      arr[j+1] = arr[j]\r\n",
        "      j -= 1\r\n",
        "    arr[j+1] = key\r\n",
        "\r\n",
        "  return arr\r\n",
        "InsertionSort(arr)"
      ],
      "execution_count": null,
      "outputs": []
    },
    {
      "cell_type": "markdown",
      "metadata": {
        "id": "6-rJcq27WvkJ"
      },
      "source": [
        "<h2> Time complexity  </h2>\r\n",
        "<ol>\r\n",
        "<li> Worst case O(n^2) </li>\r\n",
        "<li> Best case(in case array is sorted) theta(n) </li>"
      ]
    },
    {
      "cell_type": "markdown",
      "metadata": {
        "id": "CZYAjf5ea-h0"
      },
      "source": [
        "<h1> Merge two sorted arrays </h1>"
      ]
    },
    {
      "cell_type": "code",
      "metadata": {
        "colab": {
          "base_uri": "https://localhost:8080/"
        },
        "id": "mHoMUisKbClU",
        "outputId": "c917de45-c291-4549-b5f5-6eac12df4c8b"
      },
      "source": [
        "def merge(arr1,arr2):\r\n",
        "  ''' function to merge two sorted arrays '''\r\n",
        "  i = 0\r\n",
        "  j = 0\r\n",
        "  arr3 = []\r\n",
        "  while i < len(arr1) and j < len(arr2):\r\n",
        "    if arr1[i] < arr2[j]:\r\n",
        "      arr3.append(arr1[i])\r\n",
        "      i += 1\r\n",
        "    else:\r\n",
        "      arr3.append(arr2[j])\r\n",
        "      j += 1\r\n",
        "  while i < len(arr1):\r\n",
        "    arr3.append(arr1[i])\r\n",
        "    i += 1\r\n",
        "  while j < len(arr2):\r\n",
        "    arr3.append(arr2[j])\r\n",
        "    j += 1\r\n",
        "  return arr3\r\n",
        "arr1 = [int(x) for x in input().split()]\r\n",
        "arr2 = [int(x) for x in input().split()]\r\n",
        "merge(arr1,arr2)"
      ],
      "execution_count": null,
      "outputs": [
        {
          "output_type": "stream",
          "text": [
            "10 15 20 20\n",
            "1 12\n"
          ],
          "name": "stdout"
        },
        {
          "output_type": "execute_result",
          "data": {
            "text/plain": [
              "[1, 10, 12, 15, 20, 20]"
            ]
          },
          "metadata": {
            "tags": []
          },
          "execution_count": 12
        }
      ]
    },
    {
      "cell_type": "markdown",
      "metadata": {
        "id": "hms68sZNcECX"
      },
      "source": [
        "<h2> Time complexity theta(m + n) where m is length of array 1 and n is length of array 2 </h2>\r\n",
        "\r\n",
        "<h2> Space complexity theta(m + n) </h2>"
      ]
    },
    {
      "cell_type": "markdown",
      "metadata": {
        "id": "Zg3nwAdCfLXf"
      },
      "source": [
        "<h1> Merge sort </h1>"
      ]
    },
    {
      "cell_type": "code",
      "metadata": {
        "id": "SotwdRbZgMCT"
      },
      "source": [
        "def Merge(arr1,arr2,arr):\r\n",
        "  ''' function to merge sorted arrays '''\r\n",
        "  i = 0\r\n",
        "  j = 0\r\n",
        "  k = 0\r\n",
        "  while i < len(arr1) and j < len(arr2):\r\n",
        "    if arr1[i] < arr2[j]:\r\n",
        "      arr[k] = arr1[i]\r\n",
        "      i += 1\r\n",
        "      k += 1\r\n",
        "    else:\r\n",
        "      arr[k] = arr2[j]\r\n",
        "      j += 1\r\n",
        "      k += 1\r\n",
        "  while i < len(arr1):\r\n",
        "    arr[k] = arr1[i]\r\n",
        "    i += 1\r\n",
        "    k += 1\r\n",
        "  while j < len(arr2):\r\n",
        "    arr[k] = arr2[j]\r\n",
        "    j += 1\r\n",
        "    k += 1\r\n"
      ],
      "execution_count": null,
      "outputs": []
    },
    {
      "cell_type": "code",
      "metadata": {
        "colab": {
          "base_uri": "https://localhost:8080/"
        },
        "id": "lnzhlwQwfOLl",
        "outputId": "c4e390f8-97fc-4835-92e4-11032948f8ee"
      },
      "source": [
        "arr = [int(x) for x in input().split()]\r\n",
        "def MergeSort(arr):\r\n",
        "  '''Merge sort '''\r\n",
        "  if len(arr) > 1:\r\n",
        "    mid = len(arr) // 2\r\n",
        "    arr1 = arr[:mid]\r\n",
        "    arr2 = arr[mid:]\r\n",
        "    MergeSort(arr1)\r\n",
        "    MergeSort(arr2)\r\n",
        "    Merge(arr1,arr2,arr)\r\n",
        "MergeSort(arr)"
      ],
      "execution_count": null,
      "outputs": [
        {
          "output_type": "stream",
          "text": [
            "20 5 10 40 30 60\n"
          ],
          "name": "stdout"
        }
      ]
    },
    {
      "cell_type": "markdown",
      "metadata": {
        "id": "DioOSrCmqvwZ"
      },
      "source": [
        "<h2> Time complexity theta(n * log n)  </h2>\r\n",
        "<h2> Space complexity theta(n) </h2>\r\n"
      ]
    },
    {
      "cell_type": "markdown",
      "metadata": {
        "id": "hedxCU8brTNI"
      },
      "source": [
        "<h1> Intersection of two sorted arrays </h1>"
      ]
    },
    {
      "cell_type": "code",
      "metadata": {
        "colab": {
          "base_uri": "https://localhost:8080/"
        },
        "id": "5cmeorERuTOX",
        "outputId": "6f37b4ef-f57e-457c-d327-5962a7a8da72"
      },
      "source": [
        "arr1 = [int(x) for x in input().split()]\r\n",
        "arr2 = [int(x) for x in input().split()]\r\n",
        "def Intersection(arr1,arr2):\r\n",
        "  ''' Function to compute intersection of two arrays '''\r\n",
        "  i = 0\r\n",
        "  j = 0\r\n",
        "  while i < len(arr1) and j < len(arr2):\r\n",
        "    if i > 0 and arr1[i] == arr1[i-1] :\r\n",
        "      i += 1\r\n",
        "      continue\r\n",
        "    if arr1[i] < arr2[j]:\r\n",
        "      i += 1\r\n",
        "    elif arr2[j] < arr1[i]:\r\n",
        "      j += 1\r\n",
        "    elif arr1[i] == arr2[j]:\r\n",
        "      print(arr1[i])\r\n",
        "      i += 1\r\n",
        "      j += 1\r\n",
        "Intersection(arr1,arr2)"
      ],
      "execution_count": null,
      "outputs": [
        {
          "output_type": "stream",
          "text": [
            "10 20 20 40 60\n",
            "2 20 20 20\n",
            "20\n"
          ],
          "name": "stdout"
        }
      ]
    },
    {
      "cell_type": "markdown",
      "metadata": {
        "id": "tUKJwk7jvkBY"
      },
      "source": [
        "<h2> Time complexity theta (n ) </h2>"
      ]
    },
    {
      "cell_type": "markdown",
      "metadata": {
        "id": "LJhUmxX_wqbO"
      },
      "source": [
        "<h1> Union of two sorted arrays </h1>"
      ]
    },
    {
      "cell_type": "code",
      "metadata": {
        "colab": {
          "base_uri": "https://localhost:8080/"
        },
        "id": "fK7GUvnHwvVn",
        "outputId": "690e80b0-de44-445d-cc98-7d2254458d69"
      },
      "source": [
        "arr1 = [int(x) for x in input().split()]\r\n",
        "arr2 = [int(x) for x in input().split()]\r\n",
        "def Union(arr1,arr2):\r\n",
        "  ''' Function to compute union of two arrays '''\r\n",
        "  i = 0 \r\n",
        "  j = 0\r\n",
        "  while i < len(arr1) and j < len(arr2):\r\n",
        "    if i > 0 and arr1[i] == arr1[i-1]:\r\n",
        "      i += 1\r\n",
        "      continue\r\n",
        "    if j > 0 and arr2[j] == arr2[j-1]:\r\n",
        "      j += 1\r\n",
        "      continue\r\n",
        "    if arr1[i] < arr2[j]:\r\n",
        "      print(arr1[i])\r\n",
        "      i += 1\r\n",
        "    elif arr2[j] < arr1[i]:\r\n",
        "      print(arr2[j])\r\n",
        "      j += 1\r\n",
        "    else:\r\n",
        "      print(arr1[i])\r\n",
        "      i += 1\r\n",
        "      j += 1\r\n",
        "  while i < len(arr1):\r\n",
        "    if i > 0 and arr1[i] != arr1[i-1]:\r\n",
        "      print(arr1[i])\r\n",
        "      i += 1\r\n",
        "  while j < len(arr2):\r\n",
        "    if j > 0 and arr2[j] != arr2[j-1]:\r\n",
        "      print(arr2[j])\r\n",
        "      j += 1\r\n",
        "\r\n",
        "Union(arr1,arr2)"
      ],
      "execution_count": null,
      "outputs": [
        {
          "output_type": "stream",
          "text": [
            "2 10 20 20\n",
            "10 20 40\n",
            "2\n",
            "10\n",
            "20\n",
            "40\n"
          ],
          "name": "stdout"
        }
      ]
    },
    {
      "cell_type": "markdown",
      "metadata": {
        "id": "OG3Ind79d7o9"
      },
      "source": [
        "<h1> Count inversions </h1>"
      ]
    },
    {
      "cell_type": "markdown",
      "metadata": {
        "id": "GrPffXHAee_m"
      },
      "source": [
        "<h2> Naive solution </h2>"
      ]
    },
    {
      "cell_type": "code",
      "metadata": {
        "id": "JZRQZvOwwoU2",
        "colab": {
          "base_uri": "https://localhost:8080/"
        },
        "outputId": "2077b1d4-8993-42cf-979b-d3372dec4f28"
      },
      "source": [
        "arr = [int(x) for x in input().split()]\r\n",
        "def countInversion(arr):\r\n",
        "  ''' Naive solution for count inversion '''\r\n",
        "  count = 0\r\n",
        "  for i in range(len(arr)-1):\r\n",
        "    for j in range(i+1,len(arr)):\r\n",
        "      if arr[i] > arr[j]:\r\n",
        "        count += 1\r\n",
        "  return count\r\n",
        "countInversion(arr)"
      ],
      "execution_count": null,
      "outputs": [
        {
          "output_type": "stream",
          "text": [
            "2 4 1 3 5\n"
          ],
          "name": "stdout"
        },
        {
          "output_type": "execute_result",
          "data": {
            "text/plain": [
              "3"
            ]
          },
          "metadata": {
            "tags": []
          },
          "execution_count": 2
        }
      ]
    },
    {
      "cell_type": "markdown",
      "metadata": {
        "id": "x0jzNHhSek43"
      },
      "source": [
        "<h2> Time complexity O(n^2) </h2>"
      ]
    },
    {
      "cell_type": "code",
      "metadata": {
        "id": "2LN7q-V12WQy"
      },
      "source": [
        "def CountAndMerge(arr1,arr2,arr):\r\n",
        "  ''' function to merge sorted arrays '''\r\n",
        "  i = 0\r\n",
        "  j = 0\r\n",
        "  k = 0\r\n",
        "  res = 0\r\n",
        "  while i < len(arr1) and j < len(arr2):\r\n",
        "    if arr1[i] < arr2[j]:\r\n",
        "      arr[k] = arr1[i]\r\n",
        "      i += 1\r\n",
        "      k += 1\r\n",
        "      \r\n",
        "    else:\r\n",
        "      arr[k] = arr2[j]\r\n",
        "      j += 1\r\n",
        "      k += 1\r\n",
        "      res += len(arr1) - i\r\n",
        "  while i < len(arr1):\r\n",
        "    arr[k] = arr1[i]\r\n",
        "    i += 1\r\n",
        "    k += 1\r\n",
        "  while j < len(arr2):\r\n",
        "    arr[k] = arr2[j]\r\n",
        "    j += 1\r\n",
        "    k += 1\r\n",
        "  return res"
      ],
      "execution_count": null,
      "outputs": []
    },
    {
      "cell_type": "code",
      "metadata": {
        "colab": {
          "base_uri": "https://localhost:8080/"
        },
        "id": "sVl-k3EH2-T3",
        "outputId": "187bf96c-4b92-4cb5-ab16-1615d4e2ed77"
      },
      "source": [
        "arr = [int(x) for x in input().split()]\r\n",
        "def CountInversion(arr):\r\n",
        "  '''Count Inversion i.e if x > y then it is considered as inversion '''\r\n",
        "  result = 0\r\n",
        "  if len(arr) > 1:\r\n",
        "    mid = len(arr) // 2\r\n",
        "    arr1 = arr[:mid]\r\n",
        "    arr2 = arr[mid:]\r\n",
        "    result += CountInversion(arr1) # if both x and y is in left half\r\n",
        "    result += CountInversion(arr2) # if both x and y is in right half\r\n",
        "    result += CountAndMerge(arr1,arr2,arr)\r\n",
        "  return result\r\n",
        "CountInversion(arr)"
      ],
      "execution_count": null,
      "outputs": [
        {
          "output_type": "stream",
          "text": [
            "2 4 1 3 5\n"
          ],
          "name": "stdout"
        },
        {
          "output_type": "execute_result",
          "data": {
            "text/plain": [
              "3"
            ]
          },
          "metadata": {
            "tags": []
          },
          "execution_count": 4
        }
      ]
    },
    {
      "cell_type": "markdown",
      "metadata": {
        "id": "dxrfvd9VXjef"
      },
      "source": [
        "<h2> Time complexity theta(n * log n)  </h2>\r\n",
        "<h2> Space complexity theta(n) </h2>\r\n"
      ]
    },
    {
      "cell_type": "markdown",
      "metadata": {
        "id": "zhYfX_i7oZLi"
      },
      "source": [
        "<h1> Partition </h1>"
      ]
    },
    {
      "cell_type": "markdown",
      "metadata": {
        "id": "da25b11Tobl1"
      },
      "source": [
        "<h2> 1. Naive Partition </h2>"
      ]
    },
    {
      "cell_type": "code",
      "metadata": {
        "colab": {
          "base_uri": "https://localhost:8080/"
        },
        "id": "Eroqxm4AtcpY",
        "outputId": "60652732-267b-478d-a7a8-8f31b1d8a240"
      },
      "source": [
        "arr = [int(x) for x in input().split()]\r\n",
        "def partition(arr,pivot):\r\n",
        "  ''' function to partition array using Naive partition scheme '''\r\n",
        "  p = arr[pivot]\r\n",
        "  temp = []\r\n",
        "  for i in range(len(arr)):\r\n",
        "    if arr[i] <= p:\r\n",
        "      temp.append(arr[i])\r\n",
        "\r\n",
        "  for i in range(len(arr)):\r\n",
        "    if arr[i] > p:\r\n",
        "      temp.append(arr[i])\r\n",
        "  for i in range(len(temp)):\r\n",
        "    arr[i] = temp[i]\r\n",
        "partition(arr,len(arr)-1)\r\n"
      ],
      "execution_count": null,
      "outputs": [
        {
          "output_type": "stream",
          "text": [
            "10 80 30 90 40 50 70\n"
          ],
          "name": "stdout"
        }
      ]
    },
    {
      "cell_type": "code",
      "metadata": {
        "colab": {
          "base_uri": "https://localhost:8080/"
        },
        "id": "wScaM9qDuRhk",
        "outputId": "670419f5-d38a-43b0-b334-c7164148acc0"
      },
      "source": [
        "arr"
      ],
      "execution_count": null,
      "outputs": [
        {
          "output_type": "execute_result",
          "data": {
            "text/plain": [
              "[10, 30, 40, 50, 70, 80, 90]"
            ]
          },
          "metadata": {
            "tags": []
          },
          "execution_count": 14
        }
      ]
    },
    {
      "cell_type": "markdown",
      "metadata": {
        "id": "1UHROD6XuvkG"
      },
      "source": [
        "<h2> Time complexity O(n)  </h2>\r\n",
        "<h2> Space complexity O(n) </h2>\r\n"
      ]
    },
    {
      "cell_type": "markdown",
      "metadata": {
        "id": "3cI2nKiDkDOH"
      },
      "source": [
        "<h2>2. Lomuto Partition </h2>"
      ]
    },
    {
      "cell_type": "code",
      "metadata": {
        "colab": {
          "base_uri": "https://localhost:8080/"
        },
        "id": "YoB31-vnkHcA",
        "outputId": "a405f002-3842-4f62-8085-12218685dde6"
      },
      "source": [
        "arr = [int(x) for x in input().split()]\r\n",
        "def partition(arr,low,high):\r\n",
        "  ''' function to partition array using lomuto partition scheme '''\r\n",
        "  i = low - 1\r\n",
        "  \r\n",
        "  pivot = arr[high]\r\n",
        "  for j in range(low,high):\r\n",
        "    if arr[j] < pivot:\r\n",
        "      i +=1\r\n",
        "      arr[i],arr[j] = arr[j],arr[i]\r\n",
        "  arr[i+1],arr[high] = arr[high],arr[i+1]\r\n",
        "  return i+1\r\n",
        "partition(arr,0,len(arr)-1)"
      ],
      "execution_count": null,
      "outputs": [
        {
          "output_type": "stream",
          "text": [
            "10 80 30 90 40 50 70\n"
          ],
          "name": "stdout"
        },
        {
          "output_type": "execute_result",
          "data": {
            "text/plain": [
              "4"
            ]
          },
          "metadata": {
            "tags": []
          },
          "execution_count": 9
        }
      ]
    },
    {
      "cell_type": "code",
      "metadata": {
        "colab": {
          "base_uri": "https://localhost:8080/"
        },
        "id": "BIetnvavlrsP",
        "outputId": "ca7136d7-9911-4bd4-f359-9c99ad87b233"
      },
      "source": [
        "arr"
      ],
      "execution_count": null,
      "outputs": [
        {
          "output_type": "execute_result",
          "data": {
            "text/plain": [
              "[10, 30, 40, 50, 70, 90, 80]"
            ]
          },
          "metadata": {
            "tags": []
          },
          "execution_count": 10
        }
      ]
    },
    {
      "cell_type": "markdown",
      "metadata": {
        "id": "OxZ6eSaToQO9"
      },
      "source": [
        "<h2> Time complexity O(n)  </h2>\r\n",
        "<h2> Space complexity O(1) </h2>\r\n"
      ]
    },
    {
      "cell_type": "markdown",
      "metadata": {
        "id": "Ofjvq1JJoNyL"
      },
      "source": [
        "<h2> 3 Hoare Partition </h2>"
      ]
    },
    {
      "cell_type": "code",
      "metadata": {
        "colab": {
          "base_uri": "https://localhost:8080/"
        },
        "id": "KSuVgwSg-tsK",
        "outputId": "230656f5-736a-46cc-9a3d-186b722e9d2e"
      },
      "source": [
        "arr = [int(x) for x in input().split()]\r\n",
        "def partition(arr,low,high):\r\n",
        "  ''' function to partition array using hoare partition scheme''\r\n",
        "  pivot = arr[low]\r\n",
        "  i = low - 1\r\n",
        "  j = high + 1\r\n",
        "  while True:\r\n",
        "\r\n",
        "    while True:\r\n",
        "      i += 1\r\n",
        "      if arr[i] >= pivot:\r\n",
        "        break\r\n",
        "    while True:\r\n",
        "      j -= 1\r\n",
        "      if arr[j] <= pivot:\r\n",
        "        break\r\n",
        "    if i >= j:\r\n",
        "      return j\r\n",
        "    temp = arr[i]\r\n",
        "    arr[i] = arr[j]\r\n",
        "    arr[j] = temp\r\n",
        "partition(arr,0,len(arr)-1)\r\n"
      ],
      "execution_count": null,
      "outputs": [
        {
          "output_type": "stream",
          "text": [
            "9 -3 5 2 6 8 -6 1 3\n"
          ],
          "name": "stdout"
        },
        {
          "output_type": "execute_result",
          "data": {
            "text/plain": [
              "7"
            ]
          },
          "metadata": {
            "tags": []
          },
          "execution_count": 25
        }
      ]
    },
    {
      "cell_type": "markdown",
      "metadata": {
        "id": "eo5Hbl3qIeLc"
      },
      "source": [
        "<h2> Time complexity O(n)  </h2>\r\n",
        "<h2> Space complexity O(1) </h2>\r\n"
      ]
    },
    {
      "cell_type": "markdown",
      "metadata": {
        "id": "siUeY9HEKDcu"
      },
      "source": [
        "<h1> Quick Sort using Lomuto Partition </h1>"
      ]
    },
    {
      "cell_type": "code",
      "metadata": {
        "colab": {
          "base_uri": "https://localhost:8080/"
        },
        "id": "oJoLEaxCKHhd",
        "outputId": "99e5f56c-a37d-4a55-e978-441987896512"
      },
      "source": [
        "arr = [int(x) for x in input().split()]\r\n",
        "def partition(arr,low,high):\r\n",
        "  ''' function to partition array using lomuto partition scheme '''\r\n",
        "  i = low - 1\r\n",
        "  \r\n",
        "  pivot = arr[high]\r\n",
        "  for j in range(low,high):\r\n",
        "    if arr[j] < pivot:\r\n",
        "      i +=1\r\n",
        "      arr[i],arr[j] = arr[j],arr[i]\r\n",
        "  arr[i+1],arr[high] = arr[high],arr[i+1]\r\n",
        "  return i+1\r\n",
        "def QuickSort(arr,low,high):\r\n",
        "  if low < high:\r\n",
        "    pivot = partition(arr,low,high)\r\n",
        "    QuickSort(arr,low,pivot-1)\r\n",
        "    QuickSort(arr,pivot+1,high)\r\n",
        "\r\n",
        "QuickSort(arr,0,len(arr)-1)"
      ],
      "execution_count": null,
      "outputs": [
        {
          "output_type": "stream",
          "text": [
            "9 -3 5 2 6 8 -6 1 3\n"
          ],
          "name": "stdout"
        }
      ]
    },
    {
      "cell_type": "code",
      "metadata": {
        "colab": {
          "base_uri": "https://localhost:8080/"
        },
        "id": "pPSmO_ErK2ld",
        "outputId": "2d782921-bf2e-44db-afff-0fbae29aeae3"
      },
      "source": [
        "arr"
      ],
      "execution_count": null,
      "outputs": [
        {
          "output_type": "execute_result",
          "data": {
            "text/plain": [
              "[-6, -3, 1, 2, 3, 5, 6, 8, 9]"
            ]
          },
          "metadata": {
            "tags": []
          },
          "execution_count": 28
        }
      ]
    },
    {
      "cell_type": "markdown",
      "metadata": {
        "id": "wUNBoVsFMcQ-"
      },
      "source": [
        "<h1> Quick Sort using Hoare Partition </h1>"
      ]
    },
    {
      "cell_type": "code",
      "metadata": {
        "colab": {
          "base_uri": "https://localhost:8080/"
        },
        "id": "BZcplfFiMeWH",
        "outputId": "e49f9b4f-1c4e-4ee3-cf4a-6e97a7aeae70"
      },
      "source": [
        "arr = [int(x) for x in input().split()]\r\n",
        "def partition(arr,low,high):\r\n",
        "  ''' function to partition array using hoare partition scheme '''\r\n",
        "  pivot = arr[low]\r\n",
        "  i = low - 1\r\n",
        "  j = high + 1\r\n",
        "  while True:\r\n",
        "\r\n",
        "    while True:\r\n",
        "      i += 1\r\n",
        "      if arr[i] >= pivot:\r\n",
        "        break\r\n",
        "    while True:\r\n",
        "      j -= 1\r\n",
        "      if arr[j] <= pivot:\r\n",
        "        break\r\n",
        "    if i >= j:\r\n",
        "      return j\r\n",
        "    temp = arr[i]\r\n",
        "    arr[i] = arr[j]\r\n",
        "    arr[j] = temp\r\n",
        "def QuickSort(arr,low,high):\r\n",
        "  ''' Quicksort algorithm '''\r\n",
        "  if low < high:\r\n",
        "    pivot = partition(arr,low,high)\r\n",
        "    QuickSort(arr,low,pivot)\r\n",
        "    QuickSort(arr,pivot+1,high)\r\n",
        "\r\n",
        "QuickSort(arr,0,len(arr)-1)"
      ],
      "execution_count": null,
      "outputs": [
        {
          "output_type": "stream",
          "text": [
            "9 -3 5 2 6 8 -6 1 3\n"
          ],
          "name": "stdout"
        }
      ]
    },
    {
      "cell_type": "code",
      "metadata": {
        "colab": {
          "base_uri": "https://localhost:8080/"
        },
        "id": "NaHVEyAGMxsK",
        "outputId": "316521d4-3561-4564-e70c-86acc48e67c9"
      },
      "source": [
        "arr"
      ],
      "execution_count": null,
      "outputs": [
        {
          "output_type": "execute_result",
          "data": {
            "text/plain": [
              "[-6, -3, 1, 2, 3, 5, 6, 8, 9]"
            ]
          },
          "metadata": {
            "tags": []
          },
          "execution_count": 31
        }
      ]
    },
    {
      "cell_type": "markdown",
      "metadata": {
        "id": "KlfK7iszZt0g"
      },
      "source": [
        "<h2> Time complexity </h2>\r\n",
        "<ol> \r\n",
        "<li> Best case O(n*log n)</li>\r\n",
        "<li> Worst case O(n^2) </li>\r\n",
        "<li> Average case O(n * log n) </li>\r\n",
        "</ol>\r\n",
        "<h2> Space complexity </h2>\r\n",
        "<ol>\r\n",
        "<li> Worst case theta(n) recursion stack </li>\r\n",
        "<li> Best case theta(log n) recursion stack </li>\r\n"
      ]
    },
    {
      "cell_type": "markdown",
      "metadata": {
        "id": "t2bqiIRlJoOZ"
      },
      "source": [
        "<h1> Quick Select Algorithm (kth smallest element) </h1>"
      ]
    },
    {
      "cell_type": "code",
      "metadata": {
        "colab": {
          "base_uri": "https://localhost:8080/"
        },
        "id": "yqh2My2cJumm",
        "outputId": "91e2ff8e-83b6-48d5-f887-1faa50ec0772"
      },
      "source": [
        "arr = [int(x) for x in input().split()]\r\n",
        "def partition(arr,low,high):\r\n",
        "  ''' function to return index of pivot element '''\r\n",
        "  i = low - 1\r\n",
        "  \r\n",
        "  pivot = arr[high]\r\n",
        "  for j in range(low,high):\r\n",
        "    if arr[j] < pivot:\r\n",
        "      i +=1\r\n",
        "      arr[i],arr[j] = arr[j],arr[i]\r\n",
        "  arr[i+1],arr[high] = arr[high],arr[i+1]\r\n",
        "  return i+1\r\n",
        "def kthsmallest(arr,low,high,k):\r\n",
        "  ''' function to find kth smallest element '''\r\n",
        "  while low <= high:\r\n",
        "    pivot = partition(arr,low,high)\r\n",
        "\r\n",
        "    if pivot == k - 1:\r\n",
        "      return pivot\r\n",
        "    elif pivot > k - 1:\r\n",
        "      high = pivot - 1\r\n",
        "    else:\r\n",
        "      low = pivot + 1\r\n",
        "  else:\r\n",
        "    return -1\r\n",
        "arr[kthsmallest(arr,0,len(arr)-1,2)]"
      ],
      "execution_count": null,
      "outputs": [
        {
          "output_type": "stream",
          "text": [
            "9 -3 5 2 6 8 -6 1 3\n"
          ],
          "name": "stdout"
        },
        {
          "output_type": "execute_result",
          "data": {
            "text/plain": [
              "-3"
            ]
          },
          "metadata": {
            "tags": []
          },
          "execution_count": 3
        }
      ]
    },
    {
      "cell_type": "markdown",
      "metadata": {
        "id": "fUZwCB1DKvt1"
      },
      "source": [
        "<h2> Time complexity </h2>\r\n",
        "<ol>\r\n",
        "<li> Worst case O(n^2) </li>\r\n",
        "<li> Best case O(n) when randomized pivot selection is used </li>\r\n",
        "</ol>"
      ]
    },
    {
      "cell_type": "markdown",
      "metadata": {
        "id": "AVN3vMJ8MxKP"
      },
      "source": [
        "<h1> Chocolate Distribution Problem </h1>\r\n",
        "\r\n",
        "<p> Each student gets one packet. The difference between the number of chocolates in the packet with maximum chocolates and packet with minimum chocolates given to the students is minimum </p>"
      ]
    },
    {
      "cell_type": "code",
      "metadata": {
        "colab": {
          "base_uri": "https://localhost:8080/"
        },
        "id": "OOQNTfhyM7Zk",
        "outputId": "e2326e92-187a-4d75-a818-4b0e21260af2"
      },
      "source": [
        "arr = [int(x) for x in input().split()]\r\n",
        "QuickSort(arr,0,len(arr)-1)\r\n",
        "\r\n",
        "def minDiff(arr,m):\r\n",
        "  ''' function to find min element in sorted array '''\r\n",
        "  n = len(arr)\r\n",
        "\r\n",
        "  if m > n:\r\n",
        "    return -1\r\n",
        "  res = arr[m-1] - arr[0]\r\n",
        "\r\n",
        "  for i in range(1,n):\r\n",
        "    if i+m-1 >= n:\r\n",
        "      break\r\n",
        "    res = min(res,arr[i+m-1]- arr[i])\r\n",
        "  return res\r\n",
        "minDiff(arr,3)"
      ],
      "execution_count": null,
      "outputs": [
        {
          "output_type": "stream",
          "text": [
            "7 3 2 4 9 12 56\n"
          ],
          "name": "stdout"
        },
        {
          "output_type": "execute_result",
          "data": {
            "text/plain": [
              "2"
            ]
          },
          "metadata": {
            "tags": []
          },
          "execution_count": 7
        }
      ]
    },
    {
      "cell_type": "markdown",
      "metadata": {
        "id": "4GAtRj3bO-bX"
      },
      "source": [
        "<h2> Time complexity O(n * log n) </h2>"
      ]
    },
    {
      "cell_type": "markdown",
      "metadata": {
        "id": "SRnKGXeGQig_"
      },
      "source": [
        "<h1> Sort and array with two types of elements </h1>\r\n",
        "<h3> Segegrate positive and negative elements </h3>"
      ]
    },
    {
      "cell_type": "code",
      "metadata": {
        "colab": {
          "base_uri": "https://localhost:8080/"
        },
        "id": "3BuXQT2oQqrr",
        "outputId": "d03cc0ac-344d-4809-90bc-cb5c5ea3aa04"
      },
      "source": [
        "arr = [int(x) for x in input().split()]\r\n",
        "def SegPosNeg(arr):\r\n",
        "  ''' Segegrate negative elements and positive elements '''\r\n",
        "  j = len(arr)\r\n",
        "  i = -1\r\n",
        "  while True:\r\n",
        "\r\n",
        "    while True:\r\n",
        "      i += 1\r\n",
        "      if arr[i] > 0:\r\n",
        "        break\r\n",
        "    while True:\r\n",
        "      j -= 1\r\n",
        "      if arr[j] <= 0:\r\n",
        "        break\r\n",
        "    if i >= j:\r\n",
        "      return\r\n",
        "    arr[i],arr[j] = arr[j],arr[i]\r\n",
        "SegPosNeg(arr)"
      ],
      "execution_count": null,
      "outputs": [
        {
          "output_type": "stream",
          "text": [
            "-12 18 10 -15\n"
          ],
          "name": "stdout"
        }
      ]
    },
    {
      "cell_type": "code",
      "metadata": {
        "colab": {
          "base_uri": "https://localhost:8080/"
        },
        "id": "KRegaS0pRyjw",
        "outputId": "6d128e9f-a2ed-4dae-ddd8-bf39ce4fee39"
      },
      "source": [
        "arr"
      ],
      "execution_count": null,
      "outputs": [
        {
          "output_type": "execute_result",
          "data": {
            "text/plain": [
              "[-12, -15, 10, 18]"
            ]
          },
          "metadata": {
            "tags": []
          },
          "execution_count": 9
        }
      ]
    },
    {
      "cell_type": "markdown",
      "metadata": {
        "id": "v-_CDTd6R4vw"
      },
      "source": [
        "<h2> Time complexity O(n) </h2>\r\n"
      ]
    },
    {
      "cell_type": "markdown",
      "metadata": {
        "id": "xbsNFbSyUgSu"
      },
      "source": [
        "<h1> Min difference in array </h1>\r\n"
      ]
    },
    {
      "cell_type": "code",
      "metadata": {
        "colab": {
          "base_uri": "https://localhost:8080/"
        },
        "id": "K0l6T6aCUjUD",
        "outputId": "7ed14bba-6802-4e7f-e041-5ca99a4ee332"
      },
      "source": [
        "arr = [int(x) for x in input().split()]\r\n",
        "QuickSort(arr,0,len(arr)-1)\r\n",
        "def minDifference(arr):\r\n",
        "  ''' function to compute min difference in sorted array '''\r\n",
        "  res = 999999\r\n",
        "  for i in range(1,len(arr)):\r\n",
        "    res = min(res,arr[i]-arr[i-1])\r\n",
        "  return res\r\n",
        "\r\n",
        "minDifference(arr)"
      ],
      "execution_count": null,
      "outputs": [
        {
          "output_type": "stream",
          "text": [
            "10 8 1 4\n"
          ],
          "name": "stdout"
        },
        {
          "output_type": "execute_result",
          "data": {
            "text/plain": [
              "2"
            ]
          },
          "metadata": {
            "tags": []
          },
          "execution_count": 11
        }
      ]
    },
    {
      "cell_type": "markdown",
      "metadata": {
        "id": "Zs5FbEMYV6K7"
      },
      "source": [
        "<h2> Time complexity O(n * log n) </h2>\r\n"
      ]
    },
    {
      "cell_type": "markdown",
      "metadata": {
        "id": "6CXg6wMWb9_x"
      },
      "source": [
        "<h1> Cycle sort </h1>\r\n",
        "<h2> Naive solution </h2>"
      ]
    },
    {
      "cell_type": "code",
      "metadata": {
        "colab": {
          "base_uri": "https://localhost:8080/"
        },
        "id": "LwmapARaWyV2",
        "outputId": "3d50efd7-7f6f-438f-f2ec-e32bb78eb828"
      },
      "source": [
        "def countSort(arr):\r\n",
        "  ''' function to implement count sort '''\r\n",
        "  n = len(arr)\r\n",
        "  k = n - 1\r\n",
        "  count = []\r\n",
        "  for i in range(k):\r\n",
        "    count.append(0)\r\n",
        "  for i in range(n):\r\n",
        "    count[arr[i]] += 1\r\n",
        "  index = 0\r\n",
        "  for i in range(k):\r\n",
        "    for j in range(0,count[i]):\r\n",
        "      arr[index] =i\r\n",
        "      index += 1\r\n",
        "  \r\n",
        "arr = [int(x) for x in input().split()]\r\n",
        "countSort(arr)"
      ],
      "execution_count": null,
      "outputs": [
        {
          "output_type": "stream",
          "text": [
            "1 4 4 1 0 1\n"
          ],
          "name": "stdout"
        }
      ]
    },
    {
      "cell_type": "code",
      "metadata": {
        "colab": {
          "base_uri": "https://localhost:8080/"
        },
        "id": "eCyB7N_pkEMM",
        "outputId": "f816d00d-52d4-4af0-d43c-edf744af29e7"
      },
      "source": [
        "arr"
      ],
      "execution_count": null,
      "outputs": [
        {
          "output_type": "execute_result",
          "data": {
            "text/plain": [
              "[0, 1, 1, 1, 4, 4]"
            ]
          },
          "metadata": {
            "tags": []
          },
          "execution_count": 19
        }
      ]
    },
    {
      "cell_type": "markdown",
      "metadata": {
        "id": "X90TNo6ZkNOb"
      },
      "source": [
        "<h2> Time complexity theta(n + k)  where k = n - 1</h2>\r\n"
      ]
    }
  ]
}