{
 "cells": [
  {
   "cell_type": "code",
   "execution_count": 50,
   "metadata": {},
   "outputs": [],
   "source": [
    "class TreeNode:\n",
    "    def __init__(self,data):\n",
    "        self.data = data\n",
    "        self.children = list()\n",
    "    "
   ]
  },
  {
   "cell_type": "code",
   "execution_count": 51,
   "metadata": {},
   "outputs": [],
   "source": [
    "def printTree(root):\n",
    "    print(root.data)\n",
    "    for i in root.children:\n",
    "        print(i.data)"
   ]
  },
  {
   "cell_type": "code",
   "execution_count": 53,
   "metadata": {},
   "outputs": [],
   "source": [
    "def printTreedetailed(root):\n",
    "    if root is None:\n",
    "        return None\n",
    "    print(root.data,\":\",end=\"\")\n",
    "    for child in root.children:\n",
    "        print(child.data,\",\",end=\"\")\n",
    "    print()\n",
    "    for child in root.children:\n",
    "        printTreedetailed(child)"
   ]
  },
  {
   "cell_type": "code",
   "execution_count": 54,
   "metadata": {},
   "outputs": [],
   "source": [
    "def takeTreeinput():\n",
    "    print(\"Enter root data\")\n",
    "    rootdata = int(input())\n",
    "    \n",
    "    if rootdata == -1:\n",
    "        return None\n",
    "    root = TreeNode(rootdata)\n",
    "    \n",
    "    print(\"Enter no of childrens of  \",root.data)\n",
    "    childrencount = int(input())\n",
    "    for i in range(childrencount):\n",
    "        child = takeTreeinput()\n",
    "        root.children.append(child)\n",
    "    return root"
   ]
  },
  {
   "cell_type": "code",
   "execution_count": 63,
   "metadata": {},
   "outputs": [],
   "source": [
    "import queue\n",
    "def takelevelwiseTreeinput():\n",
    "    q = queue.Queue()\n",
    "    print(\"Enter root\")\n",
    "    rootdata = int(input())d\n",
    "    root = TreeNode(rootdata)\n",
    "    q.put(root)\n",
    "    while not(q.empty()):\n",
    "        curr_node = q.get()\n",
    "        print(\"Enter no of childrens of \",curr_node.data)\n",
    "        childnodes = int(input())\n",
    "        for i in range(childnodes):\n",
    "            print(\"Enter next child of \",curr_node.data)\n",
    "            childdata = int(input())\n",
    "            child = TreeNode(childdata)\n",
    "            curr_node.children.append(child)\n",
    "            q.put(child)\n",
    "    return root\n",
    "          "
   ]
  },
  {
   "cell_type": "code",
   "execution_count": 69,
   "metadata": {},
   "outputs": [],
   "source": [
    "import queue\n",
    "def printlevelwisetree(tree):\n",
    "    if tree is None:\n",
    "        return\n",
    "    q = queue.Queue()\n",
    "    q.put(tree)\n",
    "    while not(q.empty()):\n",
    "        curr_node = q.get()\n",
    "        print(curr_node.data,end=\":\")\n",
    "        for child in curr_node.children:\n",
    "            print(child.data,end=\",\")\n",
    "            q.put(child)\n",
    "\n",
    "    \n",
    "        "
   ]
  },
  {
   "cell_type": "code",
   "execution_count": 56,
   "metadata": {},
   "outputs": [],
   "source": [
    "def numNodes(root):\n",
    "    count = 1\n",
    "    if root is None:\n",
    "        return 0\n",
    "    for child in root.children:\n",
    "        count = count + numNodes(child)\n",
    "    return count"
   ]
  },
  {
   "cell_type": "code",
   "execution_count": 57,
   "metadata": {},
   "outputs": [],
   "source": [
    "def sumofNodes(root):\n",
    "    Nodesum = 0\n",
    "    if root is None:\n",
    "        return 0\n",
    "    Nodesum = root.data\n",
    "    for child in root.children:\n",
    "        Nodesum = Nodesum + sumofNodes(child)\n",
    "    return Nodesum"
   ]
  },
  {
   "cell_type": "code",
   "execution_count": 58,
   "metadata": {},
   "outputs": [],
   "source": [
    "def maxDataNode(root,maxNode):\n",
    "    if root is None:\n",
    "        return \n",
    "    maxNodedata = -9999999\n",
    "    \n",
    "    for child in root.children:\n",
    "        maxNode = maxDataNode(child,maxNode) \n",
    "    if maxNode is None:\n",
    "        return root\n",
    "    if root.data > maxNode.data:\n",
    "        maxNode = root\n",
    "    return maxNode"
   ]
  },
  {
   "cell_type": "code",
   "execution_count": null,
   "metadata": {},
   "outputs": [],
   "source": [
    "def containsX(tree, x):\n",
    "    #############################\n",
    "    # PLEASE ADD YOUR CODE HERE #\n",
    "    #############################\n",
    "    if root is None:\n",
    "        return False\n",
    "    if tree.data == x:\n",
    "        return True\n",
    "    for child in tree.children:\n",
    "        return containsX(child,x)\n",
    "    pass"
   ]
  },
  {
   "cell_type": "code",
   "execution_count": 86,
   "metadata": {},
   "outputs": [],
   "source": [
    "def leafNodeCount(tree):\n",
    "    if tree is None:\n",
    "        return\n",
    "    count = 0\n",
    "    n = numNodes(tree)\n",
    "    r = internalNodes(tree,count)\n",
    "    return n - r\n",
    "def internalNodes(tree,count):\n",
    "    if tree is None:\n",
    "        return -1\n",
    "    if len(tree.children) != 0:\n",
    "        count = count + 1\n",
    "    for child in tree.children:\n",
    "        count = internalNodes(child,count)\n",
    "    return count"
   ]
  },
  {
   "cell_type": "code",
   "execution_count": null,
   "metadata": {},
   "outputs": [],
   "source": [
    "def maxSumnode(root,s):\n",
    "    if root is None:\n",
    "        return -1\n",
    "    s = s + root.data\n",
    "    for child in root.children:\n",
    "        s = s + child.data\n",
    "    for child in root.children:\n",
    "        maxnode = maxSumnode(child,maxnode)\n",
    "    if maxnode.data > root.data:\n",
    "        return maxnode\n",
    "    else:\n",
    "        return root\n",
    "    "
   ]
  },
  {
   "cell_type": "code",
   "execution_count": 87,
   "metadata": {},
   "outputs": [
    {
     "name": "stdout",
     "output_type": "stream",
     "text": [
      "Enter root\n",
      "10\n",
      "Enter no of childrens of  10\n",
      "2\n",
      "Enter next child of  10\n",
      "2\n",
      "Enter next child of  10\n",
      "3\n",
      "Enter no of childrens of  2\n",
      "1\n",
      "Enter next child of  2\n",
      "4\n",
      "Enter no of childrens of  3\n",
      "0\n",
      "Enter no of childrens of  4\n",
      "0\n",
      "10 :2 ,3 ,\n",
      "2 :4 ,\n",
      "4 :\n",
      "3 :\n",
      "4\n",
      "19\n",
      "10\n",
      "2\n"
     ]
    }
   ],
   "source": [
    "root = takelevelwiseTreeinput()\n",
    "printTreedetailed(root)\n",
    "print(numNodes(root))\n",
    "print(sumofNodes(root))\n",
    "print(maxDataNode(root,None).data)\n",
    "#printlevelwisetree(root)\n",
    "#print(leafnodescount(root,False,0))\n",
    "print(leafnodescount(root))"
   ]
  }
 ],
 "metadata": {
  "kernelspec": {
   "display_name": "Python 3",
   "language": "python",
   "name": "python3"
  },
  "language_info": {
   "codemirror_mode": {
    "name": "ipython",
    "version": 3
   },
   "file_extension": ".py",
   "mimetype": "text/x-python",
   "name": "python",
   "nbconvert_exporter": "python",
   "pygments_lexer": "ipython3",
   "version": "3.6.7"
  }
 },
 "nbformat": 4,
 "nbformat_minor": 2
}
