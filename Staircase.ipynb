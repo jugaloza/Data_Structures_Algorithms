{
 "cells": [
  {
   "cell_type": "code",
   "execution_count": null,
   "metadata": {},
   "outputs": [],
   "source": [
    "N=int(input())\n",
    "def staircase(N):\n",
    "    if N==1 or N==2:\n",
    "        return N\n",
    "    elif N==3:\n",
    "        return N+1\n",
    "    a=staircase(N-1)\n",
    "    b=staircase(N-2)\n",
    "    c=staircase(N-3)\n",
    "    return a+b+c\n",
    "print(staircase(N))"
   ]
  }
 ],
 "metadata": {
  "kernelspec": {
   "display_name": "Python 3",
   "language": "python",
   "name": "python3"
  },
  "language_info": {
   "codemirror_mode": {
    "name": "ipython",
    "version": 3
   },
   "file_extension": ".py",
   "mimetype": "text/x-python",
   "name": "python",
   "nbconvert_exporter": "python",
   "pygments_lexer": "ipython3",
   "version": "3.6.7"
  }
 },
 "nbformat": 4,
 "nbformat_minor": 2
}
