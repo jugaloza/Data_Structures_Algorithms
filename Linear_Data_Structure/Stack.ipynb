{
  "nbformat": 4,
  "nbformat_minor": 0,
  "metadata": {
    "colab": {
      "name": "Stack.ipynb",
      "provenance": [],
      "collapsed_sections": []
    },
    "kernelspec": {
      "name": "python3",
      "display_name": "Python 3"
    }
  },
  "cells": [
    {
      "cell_type": "markdown",
      "metadata": {
        "id": "YDwfPXIQTjsT"
      },
      "source": [
        "<h1> Stack using list </h1>"
      ]
    },
    {
      "cell_type": "code",
      "metadata": {
        "colab": {
          "base_uri": "https://localhost:8080/"
        },
        "id": "k3q4wm69K5pp",
        "outputId": "8ebe5132-4c0e-4b96-f416-72d99347e561"
      },
      "source": [
        "class Stack:\r\n",
        "  # class to implement stack data structure using lists\r\n",
        "  def __init__(self):\r\n",
        "    self.s = []\r\n",
        "    self.top = -1\r\n",
        "    self.count = 0\r\n",
        "\r\n",
        "\r\n",
        "  def size(self):\r\n",
        "    return self.count\r\n",
        "  \r\n",
        "  def isEmpty(self):\r\n",
        "    if self.top < 0:\r\n",
        "      #print('Stack empty')\r\n",
        "      return True\r\n",
        "    return False\r\n",
        "  def push(self,ele):\r\n",
        "    \r\n",
        "    self.s.append(ele)\r\n",
        "    self.top = self.top + 1\r\n",
        "    \r\n",
        "    self.count += 1\r\n",
        "  def pop(self):\r\n",
        "    if self.isEmpty():\r\n",
        "      return 'Underflow'\r\n",
        "    res = self.s[self.top]\r\n",
        "    del self.s[self.top]\r\n",
        "    self.top = self.top -  1\r\n",
        "    self.count -= 1\r\n",
        "    return res\r\n",
        "  def peek(self):\r\n",
        "    if self.isEmpty():\r\n",
        "      return 'No element in stack'\r\n",
        "    return self.s[self.top]\r\n",
        "\r\n",
        "  \r\n",
        "\r\n",
        "stack1 = Stack()\r\n",
        "print(stack1.peek())\r\n",
        "stack1.push(5)\r\n",
        "stack1.pop()\r\n",
        "print(stack1.peek())\r\n",
        "stack1.push(6)\r\n",
        "stack1.push(7)\r\n",
        "\r\n",
        "stack1.pop()\r\n",
        "print(stack1.size())\r\n",
        "print(stack1.peek())\r\n",
        "\r\n",
        "print(stack1.pop())\r\n",
        "print(stack1.peek())\r\n",
        "print(stack1.size())\r\n",
        "stack1.isEmpty()"
      ],
      "execution_count": 132,
      "outputs": [
        {
          "output_type": "stream",
          "text": [
            "No element in stack\n",
            "No element in stack\n",
            "1\n",
            "6\n",
            "6\n",
            "No element in stack\n",
            "0\n"
          ],
          "name": "stdout"
        },
        {
          "output_type": "execute_result",
          "data": {
            "text/plain": [
              "True"
            ]
          },
          "metadata": {
            "tags": []
          },
          "execution_count": 132
        }
      ]
    },
    {
      "cell_type": "markdown",
      "metadata": {
        "id": "jLAKRwtAUvys"
      },
      "source": [
        "<h2>   Time complexity of all the operations is O(1) </h2>"
      ]
    },
    {
      "cell_type": "markdown",
      "metadata": {
        "id": "06PLvz61VMqn"
      },
      "source": [
        "<h1> Stack using linked list </h1>"
      ]
    },
    {
      "cell_type": "code",
      "metadata": {
        "colab": {
          "base_uri": "https://localhost:8080/"
        },
        "id": "lHo4PGuuVPzc",
        "outputId": "92720450-474b-4360-95ad-a241c588604b"
      },
      "source": [
        "class Node:\r\n",
        "  def __init__(self,ele):\r\n",
        "    # class to create single node \r\n",
        "    self.data = ele\r\n",
        "    self.next = None\r\n",
        "\r\n",
        "\r\n",
        "class Stack:\r\n",
        "  # class to implement stack data structure using linked lists\r\n",
        "  def __init__(self):\r\n",
        "    self.top = None\r\n",
        "    self.count = 0\r\n",
        "  def push(self,ele):\r\n",
        "    if not self.top:\r\n",
        "      node = Node(ele)\r\n",
        "      self.top = node\r\n",
        "      self.count += 1\r\n",
        "    else:\r\n",
        "\r\n",
        "      node = Node(ele)\r\n",
        "      node.next = self.top\r\n",
        "      self.top = node\r\n",
        "      self.count += 1\r\n",
        "  def peek(self):\r\n",
        "    if not self.top:\r\n",
        "      return 'No elements in stack'\r\n",
        "    return self.top.data\r\n",
        "  def size(self):\r\n",
        "    return self.count\r\n",
        "\r\n",
        "  def pop(self):\r\n",
        "    if not self.top:\r\n",
        "      return 'Underflow'\r\n",
        "    val = self.top.data\r\n",
        "    self.top = self.top.next\r\n",
        "    self.count -= 1\r\n",
        "    return val\r\n",
        "  def isEmpty(self):\r\n",
        "    if not self.top:\r\n",
        "      return True\r\n",
        "stack1 = Stack()\r\n",
        "stack1.push(5)\r\n",
        "stack1.push(6)\r\n",
        "print(stack1.peek())\r\n",
        "print(stack1.pop())\r\n",
        "print(stack1.peek())\r\n",
        "print(stack1.size())\r\n",
        "print(stack1.pop())\r\n",
        "print(stack1.isEmpty())"
      ],
      "execution_count": 16,
      "outputs": [
        {
          "output_type": "stream",
          "text": [
            "6\n",
            "6\n",
            "5\n",
            "1\n",
            "5\n",
            "True\n"
          ],
          "name": "stdout"
        }
      ]
    },
    {
      "cell_type": "markdown",
      "metadata": {
        "id": "Rvlatz6BZJha"
      },
      "source": [
        "<h2>   Time complexity of all the operations is O(1) </h2>"
      ]
    },
    {
      "cell_type": "markdown",
      "metadata": {
        "id": "rY4D3qFyb6KD"
      },
      "source": [
        "<h1> Balanced Parenthesis </h1>"
      ]
    },
    {
      "cell_type": "code",
      "metadata": {
        "colab": {
          "base_uri": "https://localhost:8080/"
        },
        "id": "gczYUht7b-ML",
        "outputId": "2d491273-7b92-42b4-bdaa-d3903a69c0e7"
      },
      "source": [
        "def balanced_parenthesis(string):\r\n",
        "  ''' fucntion to check if the parenthesis are balanced or not using stack data structure '''\r\n",
        "  stack = Stack()\r\n",
        "  flag = False\r\n",
        "  if len(string) == 0:\r\n",
        "    return False\r\n",
        "  for char in string:\r\n",
        "    if char == '(' or char == '{' or char =='[':\r\n",
        "      \r\n",
        "      stack.push(char)\r\n",
        "    else:\r\n",
        "      if ((char == ']' and  stack.peek() != '[') or (char == '}' and stack.peek() != '{') or (char == ')' and stack.peek() != '(')) :\r\n",
        "        break\r\n",
        "      else:\r\n",
        "        \r\n",
        "        stack.pop()\r\n",
        "  \r\n",
        "  if stack.isEmpty():\r\n",
        "    flag = True\r\n",
        "  return flag\r\n",
        "      \r\n",
        "s = input()\r\n",
        "balanced_parenthesis(s)\r\n"
      ],
      "execution_count": 80,
      "outputs": [
        {
          "output_type": "stream",
          "text": [
            "((())\n"
          ],
          "name": "stdout"
        },
        {
          "output_type": "execute_result",
          "data": {
            "text/plain": [
              "False"
            ]
          },
          "metadata": {
            "tags": []
          },
          "execution_count": 80
        }
      ]
    },
    {
      "cell_type": "markdown",
      "metadata": {
        "id": "tAER0y5AmYkJ"
      },
      "source": [
        "<h1> Stock span problem </h1>"
      ]
    },
    {
      "cell_type": "code",
      "metadata": {
        "colab": {
          "base_uri": "https://localhost:8080/"
        },
        "id": "h9c8ToeBmbz_",
        "outputId": "7abc3b99-c726-4cd1-d936-c3d5f5ad4716"
      },
      "source": [
        "def stockspan(arr):\r\n",
        "  ''' function to implement stock span problem using stack data structure '''\r\n",
        "  count = 0\r\n",
        "  stack1 = Stack()\r\n",
        "  stack1.push(0)\r\n",
        "  \r\n",
        "\r\n",
        "  for i in range(1,len(arr)):\r\n",
        "    \r\n",
        "    while not stack1.isEmpty() and arr[stack1.peek()] <= arr[i]:\r\n",
        "      \r\n",
        "      stack1.pop()\r\n",
        "    if stack1.isEmpty():\r\n",
        "      span = i + 1\r\n",
        "    else:\r\n",
        "      \r\n",
        "      span = i - stack1.peek()\r\n",
        "    #print('index',i)\r\n",
        "    stack1.push(i)\r\n",
        "    #print('pop_index',stack.peek())\r\n",
        "    #stack1.push(i)\r\n",
        "    #print('top',stack.peek())\r\n",
        "    print(span,end=' ')\r\n",
        "    #stack.push(i)\r\n",
        "    \r\n",
        "arr = [int(x) for x in input().split()]\r\n",
        "stockspan(arr)\r\n"
      ],
      "execution_count": 41,
      "outputs": [
        {
          "output_type": "stream",
          "text": [
            "60 10 15 20 35 50\n",
            "1\n",
            "1 2 3 4 5 "
          ],
          "name": "stdout"
        }
      ]
    },
    {
      "cell_type": "markdown",
      "metadata": {
        "id": "pGWw5Q_nm3DD"
      },
      "source": [
        "<h2>   Time complexity is O(n) </h2>\r\n",
        "\r\n",
        "---\r\n",
        "\r\n"
      ]
    },
    {
      "cell_type": "markdown",
      "metadata": {
        "id": "--x1d59hm2jg"
      },
      "source": [
        "<h1> Previous greater element </h1>"
      ]
    },
    {
      "cell_type": "code",
      "metadata": {
        "colab": {
          "base_uri": "https://localhost:8080/"
        },
        "id": "wGBTSHcfaVzu",
        "outputId": "8cb75120-9561-4b64-b2a1-cebbc9ee73c5"
      },
      "source": [
        "def printGreater(arr):\r\n",
        "  ''' function to print previous greater element using stack data structure '''\r\n",
        "  stack = Stack()\r\n",
        "  stack.push(arr[0])\r\n",
        "  for i in range(len(arr)):\r\n",
        "    while not stack.isEmpty() and stack.peek() <= arr[i]:\r\n",
        "      \r\n",
        "      stack.pop()\r\n",
        "\r\n",
        "    if stack.isEmpty():\r\n",
        "      print(-1)\r\n",
        "    else:\r\n",
        "      print(stack.peek())\r\n",
        "    stack.push(arr[i])\r\n",
        "    \r\n",
        "    \r\n",
        "arr = [int(x) for x in input().split()]\r\n",
        "printGreater(arr)"
      ],
      "execution_count": 133,
      "outputs": [
        {
          "output_type": "stream",
          "text": [
            "10 4 2 20 40 12 30\n",
            "-1\n",
            "10\n",
            "4\n",
            "-1\n",
            "-1\n",
            "40\n",
            "40\n"
          ],
          "name": "stdout"
        }
      ]
    },
    {
      "cell_type": "markdown",
      "metadata": {
        "id": "bQZcorTp0ZHr"
      },
      "source": [
        "<h2>   Time complexity is O(n) </h2>\r\n",
        "\r\n",
        "---\r\n",
        "\r\n"
      ]
    },
    {
      "cell_type": "markdown",
      "metadata": {
        "id": "Y6cqRLKL0ac9"
      },
      "source": [
        "<h1> Next greater element </h1>\r\n",
        "<h2> 1. Naive solution </h2>"
      ]
    },
    {
      "cell_type": "code",
      "metadata": {
        "colab": {
          "base_uri": "https://localhost:8080/"
        },
        "id": "RUp2bCs90dSr",
        "outputId": "69f55551-9309-478e-ffb8-8b9c9be60580"
      },
      "source": [
        "def nextGreater(arr):\r\n",
        "  ''' function to print next greater element using naive solution '''\r\n",
        "  flag = False\r\n",
        "  for i in range(len(arr)):\r\n",
        "    for j in range(i+1,len(arr),1):\r\n",
        "      if arr[j] > arr[i]:\r\n",
        "        print(arr[j],end=' ')\r\n",
        "        flag = True\r\n",
        "        break\r\n",
        "    #print('value',j)\r\n",
        "    if not flag or i == j:\r\n",
        "      print(-1,end=' ')\r\n",
        "\r\n",
        "\r\n",
        "arr = [int(x) for x in input().split()]\r\n",
        "nextGreater(arr)\r\n"
      ],
      "execution_count": 96,
      "outputs": [
        {
          "output_type": "stream",
          "text": [
            "5 15 10 8 6 12 9 18\n",
            "15 18 12 12 12 18 18 -1 "
          ],
          "name": "stdout"
        }
      ]
    },
    {
      "cell_type": "markdown",
      "metadata": {
        "id": "FA41NBFO3yyV"
      },
      "source": [
        "<h2>   Time complexity is O(n * n) </h2>\r\n",
        "\r\n",
        "---\r\n",
        "\r\n"
      ]
    },
    {
      "cell_type": "markdown",
      "metadata": {
        "id": "FfPlDmlc31Cs"
      },
      "source": [
        "<h2> Efficient solution </h2>"
      ]
    },
    {
      "cell_type": "code",
      "metadata": {
        "colab": {
          "base_uri": "https://localhost:8080/"
        },
        "id": "xvvjw-tz34c4",
        "outputId": "a196d8e5-f748-4d60-b1de-3e5d7da0ef4f"
      },
      "source": [
        "def nextGreater(arr):\r\n",
        "  ''' function to print previous next element using stack data structure '''\r\n",
        "  stack = Stack()\r\n",
        "  stack.push(arr[-1])\r\n",
        "  print(-1,end= ' ')\r\n",
        "  for i in range(len(arr)-2,-1,-1):\r\n",
        "    while not stack.isEmpty() and stack.peek() <= arr[i]:\r\n",
        "      #print('top element',stack.peek())\r\n",
        "      stack.pop()\r\n",
        "      \r\n",
        "\r\n",
        "    if stack.isEmpty():\r\n",
        "      print(-1,end=' ')\r\n",
        "    else:\r\n",
        "      print(stack.peek(),end=' ')\r\n",
        "    stack.push(arr[i])\r\n",
        "\r\n",
        "arr = [int(x) for x in input().split()]\r\n",
        "nextGreater(arr)\r\n"
      ],
      "execution_count": 125,
      "outputs": [
        {
          "output_type": "stream",
          "text": [
            "5 15 10 8 6 12 9 18\n",
            "-1 18 18 12 12 12 18 15 "
          ],
          "name": "stdout"
        }
      ]
    },
    {
      "cell_type": "markdown",
      "metadata": {
        "id": "DF8oUvjo-lAN"
      },
      "source": [
        "<h2>   Time complexity is O(n ) </h2>\r\n",
        "<h2> Space complexity is O(n) </h2>\r\n",
        "<h2> output will be in reverse order  </h2>\r\n",
        "\r\n"
      ]
    },
    {
      "cell_type": "markdown",
      "metadata": {
        "id": "1SSOIATeMUqT"
      },
      "source": [
        "<h1> Design stack that supports getMin operation in O(1) </h1>"
      ]
    },
    {
      "cell_type": "code",
      "metadata": {
        "colab": {
          "base_uri": "https://localhost:8080/"
        },
        "id": "zebQcnPiMZS5",
        "outputId": "57aa64c7-8d5c-4c97-bff5-4a59620bc8b1"
      },
      "source": [
        "class ModifiedStack:\r\n",
        "  # class to implement stack that supports getMin operation in O(1) time using auxillary stack \r\n",
        "  def __init__(self):\r\n",
        "    self.ms = Stack()\r\n",
        "    self.aux = Stack()\r\n",
        "  def push(self,ele):\r\n",
        "    if self.ms.isEmpty():\r\n",
        "      self.ms.push(ele)\r\n",
        "      self.aux.push(ele)\r\n",
        "    else:\r\n",
        "      self.ms.push(ele)\r\n",
        "      if self.aux.peek() >= self.ms.peek():\r\n",
        "        self.aux.push(ele)\r\n",
        "\r\n",
        "  def pop(self):\r\n",
        "    if self.aux.peek() == self.ms.peek():\r\n",
        "      self.aux.pop()\r\n",
        "    self.ms.pop()\r\n",
        "  def getMin(self):\r\n",
        "    return self.aux.peek()\r\n",
        "\r\n",
        "s = ModifiedStack()\r\n",
        "s.push(45)\r\n",
        "s.push(65)\r\n",
        "s.getMin()"
      ],
      "execution_count": 141,
      "outputs": [
        {
          "output_type": "execute_result",
          "data": {
            "text/plain": [
              "45"
            ]
          },
          "metadata": {
            "tags": []
          },
          "execution_count": 141
        }
      ]
    },
    {
      "cell_type": "markdown",
      "metadata": {
        "id": "sTI47H9NDH_l"
      },
      "source": [
        "<h1> Largest rectangular area in histogram </h1>"
      ]
    },
    {
      "cell_type": "code",
      "metadata": {
        "colab": {
          "base_uri": "https://localhost:8080/"
        },
        "id": "Clkg5NORDNfq",
        "outputId": "561b1cdc-a9af-4b4f-daec-a15990ee249a"
      },
      "source": [
        "def getMaxarea(arr):\r\n",
        "  ''' Naive solution to get max area of histogram '''\r\n",
        "  res = 0\r\n",
        "  for i in range(len(arr)):\r\n",
        "    current = arr[i]\r\n",
        "    for j in range(i-1,-1,-1):\r\n",
        "      if arr[j] >= arr[i]:\r\n",
        "        current += arr[i]\r\n",
        "      else:\r\n",
        "        break\r\n",
        "    for j in range(i+1,len(arr)):\r\n",
        "      if arr[j] >= arr[i]:\r\n",
        "        current += arr[i]\r\n",
        "      else:\r\n",
        "        break\r\n",
        "    res = max(res,current)\r\n",
        "  return res\r\n",
        "\r\n",
        "\r\n",
        "arr = [int(x) for x in input().split()]\r\n",
        "getMaxarea(arr)\r\n"
      ],
      "execution_count": 126,
      "outputs": [
        {
          "output_type": "stream",
          "text": [
            "6 2 5 4 1 5 6\n"
          ],
          "name": "stdout"
        },
        {
          "output_type": "execute_result",
          "data": {
            "text/plain": [
              "10"
            ]
          },
          "metadata": {
            "tags": []
          },
          "execution_count": 126
        }
      ]
    },
    {
      "cell_type": "markdown",
      "metadata": {
        "id": "KOYjSMoPEFz0"
      },
      "source": [
        "<h2>   Time complexity is O(n * n) </h2>\r\n",
        "\r\n",
        "\r\n",
        "\r\n"
      ]
    },
    {
      "cell_type": "code",
      "metadata": {
        "colab": {
          "base_uri": "https://localhost:8080/"
        },
        "id": "Z8n-kfb5GCJm",
        "outputId": "fa9ddcec-3c27-4680-d57b-75f4adff64bc"
      },
      "source": [
        "def previousSmaller(arr):\r\n",
        "  ''' function to compute previous smaller element using stack data structure '''\r\n",
        "  stack = Stack()\r\n",
        "  stack.push(0)\r\n",
        "  result = []\r\n",
        "  for i in range(len(arr)):\r\n",
        "    while not stack.isEmpty() and arr[stack.peek()] >= arr[i]:\r\n",
        "      #print('popped elements',stack.pop())\r\n",
        "      stack.pop()\r\n",
        "\r\n",
        "    if stack.isEmpty():\r\n",
        "      result.append(-1)\r\n",
        "    else:\r\n",
        "      result.append(stack.peek())\r\n",
        "    stack.push(i)\r\n",
        "  return result\r\n",
        "    \r\n",
        "arr = [int(x) for x in input().split()]\r\n",
        "previousSmaller(arr)"
      ],
      "execution_count": 134,
      "outputs": [
        {
          "output_type": "stream",
          "text": [
            "6 2 5 4 1 5 6\n"
          ],
          "name": "stdout"
        },
        {
          "output_type": "execute_result",
          "data": {
            "text/plain": [
              "[-1, -1, 1, 1, -1, 4, 5]"
            ]
          },
          "metadata": {
            "tags": []
          },
          "execution_count": 134
        }
      ]
    },
    {
      "cell_type": "markdown",
      "metadata": {
        "id": "O0bZeZ-Ij6ar"
      },
      "source": [
        "<h2>   Time complexity is O(n) </h2>\r\n",
        "\r\n",
        "\r\n"
      ]
    }
  ]
}